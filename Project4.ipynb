{
 "cells": [
  {
   "attachments": {},
   "cell_type": "markdown",
   "metadata": {},
   "source": [
    "<img src=\"images/1.png\"/>"
   ]
  },
  {
   "attachments": {},
   "cell_type": "markdown",
   "metadata": {},
   "source": [
    "<img src=\"images/2.png\"/>"
   ]
  },
  {
   "cell_type": "markdown",
   "metadata": {},
   "source": [
    "## 1. Preparing our dataset\n",
    "<p><em>These recommendations are so on point! How does this playlist know me so well?</em></p>\n",
    "<p><img src=\"images/3.jpg\" alt=\"Project Image Record\" width=\"600px\"></p>\n",
    "<p>Over the past few years, streaming services with huge catalogs have become the primary means through which most people listen to their favorite music. But at the same time, the sheer amount of music on offer can mean users might be a bit overwhelmed when trying to look for newer music that suits their tastes.</p>\n",
    "<p>For this reason, streaming services have looked into means of categorizing music to allow for personalized recommendations. One method involves direct analysis of the raw audio information in a given song, scoring the raw data on a variety of metrics. Today, we'll be examining data compiled by a research group known as The Echo Nest. Our goal is to look through this dataset and classify songs as being either 'Hip-Hop' or 'Rock' - all without listening to a single one ourselves. In doing so, we will learn how to clean our data, do some exploratory data visualization, and use feature reduction towards the goal of feeding our data through some simple machine learning algorithms, such as decision trees and logistic regression.</p>\n",
    "<p>To begin with, let's load the metadata about our tracks alongside the track metrics compiled by The Echo Nest. A song is about more than its title, artist, and number of listens. We have another dataset that has musical features of each track such as <code>danceability</code> and <code>acousticness</code> on a scale from -1 to 1. These exist in two different files, which are in different formats - CSV and JSON. While CSV is a popular file format for denoting tabular data, JSON is another common file format in which databases often return the results of a given query.</p>\n",
    "<p>Let's start by creating two pandas <code>DataFrames</code> out of these files that we can merge so we have features and labels (often also referred to as <code>X</code> and <code>y</code>) for the classification later on.</p>"
   ]
  },
  {
   "cell_type": "markdown",
   "metadata": {},
   "source": [
    "### Project Description\n",
    "\n",
    "Using a dataset comprised of songs of two music genres (Hip-Hop and Rock), you will train a classifier to distinguish between the two genres based only on track information derived from Echonest (now part of Spotify). You will first make use of pandas and seaborn packages in Python for subsetting the data, aggregating information, and creating plots when exploring the data for obvious trends or factors you should be aware of when doing machine learning. Next, you will use the scikit-learn package to predict whether you can correctly classify a song's genre based on features such as danceability, energy, acousticness, tempo, etc. You will go over implementations of common algorithms such as PCA, Logistic Regression, Decision Trees, Random Forest, Grid search Hyperparameter Tuning and so forth.\n",
    "\n",
    "Link to dataset: http://millionsongdataset.com/tasteprofile/"
   ]
  },
  {
   "cell_type": "markdown",
   "metadata": {},
   "source": [
    "In this project, I will apply what I have learned in Supervised Learning with scikit-learn, plus data preprocessing, dimensionality reduction, and machine learning using the scikit-learn package. "
   ]
  },
  {
   "cell_type": "code",
   "execution_count": 1,
   "metadata": {},
   "outputs": [],
   "source": [
    "# IMPORT ALL NECCESSARY LIBRARIES\n",
    "import pandas as pd\n",
    "import numpy as np\n",
    "import warnings\n",
    "from pprint import pprint                                  # Import parameter print\n",
    "import matplotlib.pyplot as plt                            # Import plotting module\n",
    "from scipy.stats import randint                            # Import randint\n",
    "from sklearn.linear_model import LogisticRegression        # Import Logistic Regression\n",
    "from sklearn.decomposition import PCA                      # Import PCA class\n",
    "from sklearn.preprocessing import StandardScaler           # Import the Standard Scaler\n",
    "from sklearn.model_selection import train_test_split       # Import train_test_split function\n",
    "from sklearn.tree import DecisionTreeClassifier            # Import Decision tree classifier\n",
    "from sklearn.metrics import classification_report          # Import Classification Report\n",
    "from sklearn.model_selection import RandomizedSearchCV     # Import Randomized Search CV\n",
    "from sklearn.model_selection import KFold, cross_val_score # Import KFold, Cross Validation Score \n",
    "from sklearn.ensemble import RandomForestClassifier        # Import random forest\n",
    "from sklearn.model_selection import GridSearchCV           # Import Grid Search CV\n",
    "\n",
    "\n",
    "# ignore all harmless waring to keep the notebook clean\n",
    "warnings.filterwarnings('ignore')\n",
    "# This is just to make plots appear in the notebook\n",
    "%matplotlib inline"
   ]
  },
  {
   "cell_type": "markdown",
   "metadata": {},
   "source": [
    "# Step 1: Load, Clean and Prepare the Data"
   ]
  },
  {
   "cell_type": "markdown",
   "metadata": {},
   "source": [
    "##### Using the pandas read_csv() function, read in the file with the track metadata (datasets/fma-rock-vs-hiphop.csv) and name the DataFrame tracks."
   ]
  },
  {
   "cell_type": "code",
   "execution_count": 2,
   "metadata": {},
   "outputs": [
    {
     "name": "stdout",
     "output_type": "stream",
     "text": [
      "   track_id  bit_rate  comments        composer         date_created  \\\n",
      "0       135    256000         1             NaN  2008-11-26 01:43:26   \n",
      "1       136    256000         1             NaN  2008-11-26 01:43:35   \n",
      "2       151    192000         0             NaN  2008-11-26 01:44:55   \n",
      "3       152    192000         0             NaN  2008-11-26 01:44:58   \n",
      "4       153    256000         0  Arc and Sender  2008-11-26 01:45:00   \n",
      "\n",
      "         date_recorded  duration  favorites genre_top    genres  ...  \\\n",
      "0  2008-11-26 00:00:00       837          0      Rock  [45, 58]  ...   \n",
      "1  2008-11-26 00:00:00       509          0      Rock  [45, 58]  ...   \n",
      "2                  NaN       192          0      Rock      [25]  ...   \n",
      "3                  NaN       193          0      Rock      [25]  ...   \n",
      "4  2008-11-26 00:00:00       405          5      Rock      [26]  ...   \n",
      "\n",
      "  information interest  language_code  \\\n",
      "0         NaN     2484             en   \n",
      "1         NaN     1948             en   \n",
      "2         NaN      701             en   \n",
      "3         NaN      637             en   \n",
      "4         NaN      354             en   \n",
      "\n",
      "                                             license listens  lyricist number  \\\n",
      "0  Attribution-NonCommercial-ShareAlike 3.0 Inter...    1832       NaN      0   \n",
      "1  Attribution-NonCommercial-ShareAlike 3.0 Inter...    1498       NaN      0   \n",
      "2  Attribution-NonCommercial-ShareAlike 3.0 Inter...     148       NaN      4   \n",
      "3  Attribution-NonCommercial-ShareAlike 3.0 Inter...      98       NaN     11   \n",
      "4  Attribution-NonCommercial-NoDerivatives (aka M...     424       NaN      2   \n",
      "\n",
      "   publisher tags                       title  \n",
      "0        NaN   []                Father's Day  \n",
      "1        NaN   []  Peel Back The Mountain Sky  \n",
      "2        NaN   []                 Untitled 04  \n",
      "3        NaN   []                 Untitled 11  \n",
      "4        NaN   []          Hundred-Year Flood  \n",
      "\n",
      "[5 rows x 21 columns]\n"
     ]
    }
   ],
   "source": [
    "# Read in track metadata with genre labels\n",
    "tracks = pd.read_csv('datasets/fma-rock-vs-hiphop.csv')\n",
    "# Quick look at the head of data\n",
    "print(tracks.head())"
   ]
  },
  {
   "cell_type": "markdown",
   "metadata": {},
   "source": [
    "##### Using the pandas read_json() function, read in the JSON file with the track acoustic metrics (datasets/echonest-metrics.json) and name the DataFrame echonest_metrics. Set the precise_float argument to True when reading in data."
   ]
  },
  {
   "cell_type": "code",
   "execution_count": 3,
   "metadata": {},
   "outputs": [
    {
     "data": {
      "text/html": [
       "<div>\n",
       "<style scoped>\n",
       "    .dataframe tbody tr th:only-of-type {\n",
       "        vertical-align: middle;\n",
       "    }\n",
       "\n",
       "    .dataframe tbody tr th {\n",
       "        vertical-align: top;\n",
       "    }\n",
       "\n",
       "    .dataframe thead th {\n",
       "        text-align: right;\n",
       "    }\n",
       "</style>\n",
       "<table border=\"1\" class=\"dataframe\">\n",
       "  <thead>\n",
       "    <tr style=\"text-align: right;\">\n",
       "      <th></th>\n",
       "      <th>track_id</th>\n",
       "      <th>acousticness</th>\n",
       "      <th>danceability</th>\n",
       "      <th>energy</th>\n",
       "      <th>instrumentalness</th>\n",
       "      <th>liveness</th>\n",
       "      <th>speechiness</th>\n",
       "      <th>tempo</th>\n",
       "      <th>valence</th>\n",
       "    </tr>\n",
       "  </thead>\n",
       "  <tbody>\n",
       "    <tr>\n",
       "      <th>0</th>\n",
       "      <td>2</td>\n",
       "      <td>0.416675</td>\n",
       "      <td>0.675894</td>\n",
       "      <td>0.634476</td>\n",
       "      <td>0.010628</td>\n",
       "      <td>0.177647</td>\n",
       "      <td>0.159310</td>\n",
       "      <td>165.922</td>\n",
       "      <td>0.576661</td>\n",
       "    </tr>\n",
       "    <tr>\n",
       "      <th>1</th>\n",
       "      <td>3</td>\n",
       "      <td>0.374408</td>\n",
       "      <td>0.528643</td>\n",
       "      <td>0.817461</td>\n",
       "      <td>0.001851</td>\n",
       "      <td>0.105880</td>\n",
       "      <td>0.461818</td>\n",
       "      <td>126.957</td>\n",
       "      <td>0.269240</td>\n",
       "    </tr>\n",
       "    <tr>\n",
       "      <th>10</th>\n",
       "      <td>145</td>\n",
       "      <td>0.235506</td>\n",
       "      <td>0.438672</td>\n",
       "      <td>0.487752</td>\n",
       "      <td>0.716122</td>\n",
       "      <td>0.070359</td>\n",
       "      <td>0.047298</td>\n",
       "      <td>120.790</td>\n",
       "      <td>0.650452</td>\n",
       "    </tr>\n",
       "    <tr>\n",
       "      <th>100</th>\n",
       "      <td>341</td>\n",
       "      <td>0.977282</td>\n",
       "      <td>0.468808</td>\n",
       "      <td>0.134975</td>\n",
       "      <td>0.687700</td>\n",
       "      <td>0.105381</td>\n",
       "      <td>0.073124</td>\n",
       "      <td>119.646</td>\n",
       "      <td>0.430707</td>\n",
       "    </tr>\n",
       "    <tr>\n",
       "      <th>1000</th>\n",
       "      <td>3457</td>\n",
       "      <td>0.081256</td>\n",
       "      <td>0.897197</td>\n",
       "      <td>0.367886</td>\n",
       "      <td>0.104474</td>\n",
       "      <td>0.085845</td>\n",
       "      <td>0.041271</td>\n",
       "      <td>100.744</td>\n",
       "      <td>0.749293</td>\n",
       "    </tr>\n",
       "  </tbody>\n",
       "</table>\n",
       "</div>"
      ],
      "text/plain": [
       "      track_id  acousticness  danceability    energy  instrumentalness  \\\n",
       "0            2      0.416675      0.675894  0.634476          0.010628   \n",
       "1            3      0.374408      0.528643  0.817461          0.001851   \n",
       "10         145      0.235506      0.438672  0.487752          0.716122   \n",
       "100        341      0.977282      0.468808  0.134975          0.687700   \n",
       "1000      3457      0.081256      0.897197  0.367886          0.104474   \n",
       "\n",
       "      liveness  speechiness    tempo   valence  \n",
       "0     0.177647     0.159310  165.922  0.576661  \n",
       "1     0.105880     0.461818  126.957  0.269240  \n",
       "10    0.070359     0.047298  120.790  0.650452  \n",
       "100   0.105381     0.073124  119.646  0.430707  \n",
       "1000  0.085845     0.041271  100.744  0.749293  "
      ]
     },
     "execution_count": 3,
     "metadata": {},
     "output_type": "execute_result"
    }
   ],
   "source": [
    "# Read in track metrics with the features\n",
    "echonest_metrics = pd.read_json('datasets/echonest-metrics.json', precise_float = True)\n",
    "# Quick look at the head of data\n",
    "echonest_metrics.head()"
   ]
  },
  {
   "cell_type": "code",
   "execution_count": 4,
   "metadata": {},
   "outputs": [
    {
     "data": {
      "text/html": [
       "<div>\n",
       "<style scoped>\n",
       "    .dataframe tbody tr th:only-of-type {\n",
       "        vertical-align: middle;\n",
       "    }\n",
       "\n",
       "    .dataframe tbody tr th {\n",
       "        vertical-align: top;\n",
       "    }\n",
       "\n",
       "    .dataframe thead th {\n",
       "        text-align: right;\n",
       "    }\n",
       "</style>\n",
       "<table border=\"1\" class=\"dataframe\">\n",
       "  <thead>\n",
       "    <tr style=\"text-align: right;\">\n",
       "      <th></th>\n",
       "      <th>track_id</th>\n",
       "      <th>acousticness</th>\n",
       "      <th>danceability</th>\n",
       "      <th>energy</th>\n",
       "      <th>instrumentalness</th>\n",
       "      <th>liveness</th>\n",
       "      <th>speechiness</th>\n",
       "      <th>tempo</th>\n",
       "      <th>valence</th>\n",
       "    </tr>\n",
       "  </thead>\n",
       "  <tbody>\n",
       "    <tr>\n",
       "      <th>count</th>\n",
       "      <td>13129.000000</td>\n",
       "      <td>1.312900e+04</td>\n",
       "      <td>13129.000000</td>\n",
       "      <td>13129.000000</td>\n",
       "      <td>13129.000000</td>\n",
       "      <td>13129.000000</td>\n",
       "      <td>13129.000000</td>\n",
       "      <td>13129.000000</td>\n",
       "      <td>13129.000000</td>\n",
       "    </tr>\n",
       "    <tr>\n",
       "      <th>mean</th>\n",
       "      <td>34031.058268</td>\n",
       "      <td>5.246876e-01</td>\n",
       "      <td>0.487290</td>\n",
       "      <td>0.537516</td>\n",
       "      <td>0.640536</td>\n",
       "      <td>0.187804</td>\n",
       "      <td>0.099174</td>\n",
       "      <td>123.080061</td>\n",
       "      <td>0.439761</td>\n",
       "    </tr>\n",
       "    <tr>\n",
       "      <th>std</th>\n",
       "      <td>28950.422182</td>\n",
       "      <td>3.837186e-01</td>\n",
       "      <td>0.190148</td>\n",
       "      <td>0.278049</td>\n",
       "      <td>0.361430</td>\n",
       "      <td>0.158051</td>\n",
       "      <td>0.137381</td>\n",
       "      <td>35.015137</td>\n",
       "      <td>0.276028</td>\n",
       "    </tr>\n",
       "    <tr>\n",
       "      <th>min</th>\n",
       "      <td>2.000000</td>\n",
       "      <td>9.035000e-07</td>\n",
       "      <td>0.051307</td>\n",
       "      <td>0.000020</td>\n",
       "      <td>0.000000</td>\n",
       "      <td>0.025297</td>\n",
       "      <td>0.022324</td>\n",
       "      <td>12.753000</td>\n",
       "      <td>0.000010</td>\n",
       "    </tr>\n",
       "    <tr>\n",
       "      <th>25%</th>\n",
       "      <td>12986.000000</td>\n",
       "      <td>1.037726e-01</td>\n",
       "      <td>0.344759</td>\n",
       "      <td>0.321300</td>\n",
       "      <td>0.323466</td>\n",
       "      <td>0.101406</td>\n",
       "      <td>0.036932</td>\n",
       "      <td>95.967000</td>\n",
       "      <td>0.197321</td>\n",
       "    </tr>\n",
       "    <tr>\n",
       "      <th>50%</th>\n",
       "      <td>28097.000000</td>\n",
       "      <td>5.739848e-01</td>\n",
       "      <td>0.485635</td>\n",
       "      <td>0.549113</td>\n",
       "      <td>0.838134</td>\n",
       "      <td>0.119002</td>\n",
       "      <td>0.049019</td>\n",
       "      <td>120.057000</td>\n",
       "      <td>0.417743</td>\n",
       "    </tr>\n",
       "    <tr>\n",
       "      <th>75%</th>\n",
       "      <td>45021.000000</td>\n",
       "      <td>9.207270e-01</td>\n",
       "      <td>0.629094</td>\n",
       "      <td>0.776254</td>\n",
       "      <td>0.918244</td>\n",
       "      <td>0.211041</td>\n",
       "      <td>0.085452</td>\n",
       "      <td>145.318000</td>\n",
       "      <td>0.665575</td>\n",
       "    </tr>\n",
       "    <tr>\n",
       "      <th>max</th>\n",
       "      <td>124911.000000</td>\n",
       "      <td>9.957965e-01</td>\n",
       "      <td>0.968645</td>\n",
       "      <td>0.999964</td>\n",
       "      <td>0.998016</td>\n",
       "      <td>0.980330</td>\n",
       "      <td>0.966177</td>\n",
       "      <td>251.072000</td>\n",
       "      <td>0.999990</td>\n",
       "    </tr>\n",
       "  </tbody>\n",
       "</table>\n",
       "</div>"
      ],
      "text/plain": [
       "            track_id  acousticness  danceability        energy  \\\n",
       "count   13129.000000  1.312900e+04  13129.000000  13129.000000   \n",
       "mean    34031.058268  5.246876e-01      0.487290      0.537516   \n",
       "std     28950.422182  3.837186e-01      0.190148      0.278049   \n",
       "min         2.000000  9.035000e-07      0.051307      0.000020   \n",
       "25%     12986.000000  1.037726e-01      0.344759      0.321300   \n",
       "50%     28097.000000  5.739848e-01      0.485635      0.549113   \n",
       "75%     45021.000000  9.207270e-01      0.629094      0.776254   \n",
       "max    124911.000000  9.957965e-01      0.968645      0.999964   \n",
       "\n",
       "       instrumentalness      liveness   speechiness         tempo  \\\n",
       "count      13129.000000  13129.000000  13129.000000  13129.000000   \n",
       "mean           0.640536      0.187804      0.099174    123.080061   \n",
       "std            0.361430      0.158051      0.137381     35.015137   \n",
       "min            0.000000      0.025297      0.022324     12.753000   \n",
       "25%            0.323466      0.101406      0.036932     95.967000   \n",
       "50%            0.838134      0.119002      0.049019    120.057000   \n",
       "75%            0.918244      0.211041      0.085452    145.318000   \n",
       "max            0.998016      0.980330      0.966177    251.072000   \n",
       "\n",
       "            valence  \n",
       "count  13129.000000  \n",
       "mean       0.439761  \n",
       "std        0.276028  \n",
       "min        0.000010  \n",
       "25%        0.197321  \n",
       "50%        0.417743  \n",
       "75%        0.665575  \n",
       "max        0.999990  "
      ]
     },
     "execution_count": 4,
     "metadata": {},
     "output_type": "execute_result"
    }
   ],
   "source": [
    "echonest_metrics.describe()"
   ]
  },
  {
   "cell_type": "code",
   "execution_count": 5,
   "metadata": {
    "dc": {
     "key": "3"
    },
    "tags": [
     "sample_code"
    ]
   },
   "outputs": [
    {
     "data": {
      "text/html": [
       "<div>\n",
       "<style scoped>\n",
       "    .dataframe tbody tr th:only-of-type {\n",
       "        vertical-align: middle;\n",
       "    }\n",
       "\n",
       "    .dataframe tbody tr th {\n",
       "        vertical-align: top;\n",
       "    }\n",
       "\n",
       "    .dataframe thead th {\n",
       "        text-align: right;\n",
       "    }\n",
       "</style>\n",
       "<table border=\"1\" class=\"dataframe\">\n",
       "  <thead>\n",
       "    <tr style=\"text-align: right;\">\n",
       "      <th></th>\n",
       "      <th>track_id</th>\n",
       "      <th>acousticness</th>\n",
       "      <th>danceability</th>\n",
       "      <th>energy</th>\n",
       "      <th>instrumentalness</th>\n",
       "      <th>liveness</th>\n",
       "      <th>speechiness</th>\n",
       "      <th>tempo</th>\n",
       "      <th>valence</th>\n",
       "      <th>title</th>\n",
       "      <th>genre_top</th>\n",
       "    </tr>\n",
       "  </thead>\n",
       "  <tbody>\n",
       "    <tr>\n",
       "      <th>0</th>\n",
       "      <td>2</td>\n",
       "      <td>0.416675</td>\n",
       "      <td>0.675894</td>\n",
       "      <td>0.634476</td>\n",
       "      <td>0.010628</td>\n",
       "      <td>0.177647</td>\n",
       "      <td>0.159310</td>\n",
       "      <td>165.922</td>\n",
       "      <td>0.576661</td>\n",
       "      <td>Food</td>\n",
       "      <td>Hip-Hop</td>\n",
       "    </tr>\n",
       "    <tr>\n",
       "      <th>1</th>\n",
       "      <td>3</td>\n",
       "      <td>0.374408</td>\n",
       "      <td>0.528643</td>\n",
       "      <td>0.817461</td>\n",
       "      <td>0.001851</td>\n",
       "      <td>0.105880</td>\n",
       "      <td>0.461818</td>\n",
       "      <td>126.957</td>\n",
       "      <td>0.269240</td>\n",
       "      <td>Electric Ave</td>\n",
       "      <td>Hip-Hop</td>\n",
       "    </tr>\n",
       "    <tr>\n",
       "      <th>2</th>\n",
       "      <td>341</td>\n",
       "      <td>0.977282</td>\n",
       "      <td>0.468808</td>\n",
       "      <td>0.134975</td>\n",
       "      <td>0.687700</td>\n",
       "      <td>0.105381</td>\n",
       "      <td>0.073124</td>\n",
       "      <td>119.646</td>\n",
       "      <td>0.430707</td>\n",
       "      <td>Count Dracula's castle</td>\n",
       "      <td>Rock</td>\n",
       "    </tr>\n",
       "    <tr>\n",
       "      <th>3</th>\n",
       "      <td>46204</td>\n",
       "      <td>0.953349</td>\n",
       "      <td>0.498525</td>\n",
       "      <td>0.552503</td>\n",
       "      <td>0.924391</td>\n",
       "      <td>0.684914</td>\n",
       "      <td>0.028885</td>\n",
       "      <td>78.958</td>\n",
       "      <td>0.430448</td>\n",
       "      <td>Heavy Deeds (live at SXSW)</td>\n",
       "      <td>Rock</td>\n",
       "    </tr>\n",
       "    <tr>\n",
       "      <th>4</th>\n",
       "      <td>46205</td>\n",
       "      <td>0.613229</td>\n",
       "      <td>0.500320</td>\n",
       "      <td>0.487992</td>\n",
       "      <td>0.936811</td>\n",
       "      <td>0.637750</td>\n",
       "      <td>0.030327</td>\n",
       "      <td>112.667</td>\n",
       "      <td>0.824749</td>\n",
       "      <td>Crete (live at SXSW)</td>\n",
       "      <td>Rock</td>\n",
       "    </tr>\n",
       "  </tbody>\n",
       "</table>\n",
       "</div>"
      ],
      "text/plain": [
       "   track_id  acousticness  danceability    energy  instrumentalness  liveness  \\\n",
       "0         2      0.416675      0.675894  0.634476          0.010628  0.177647   \n",
       "1         3      0.374408      0.528643  0.817461          0.001851  0.105880   \n",
       "2       341      0.977282      0.468808  0.134975          0.687700  0.105381   \n",
       "3     46204      0.953349      0.498525  0.552503          0.924391  0.684914   \n",
       "4     46205      0.613229      0.500320  0.487992          0.936811  0.637750   \n",
       "\n",
       "   speechiness    tempo   valence                       title genre_top  \n",
       "0     0.159310  165.922  0.576661                        Food   Hip-Hop  \n",
       "1     0.461818  126.957  0.269240                Electric Ave   Hip-Hop  \n",
       "2     0.073124  119.646  0.430707      Count Dracula's castle      Rock  \n",
       "3     0.028885   78.958  0.430448  Heavy Deeds (live at SXSW)      Rock  \n",
       "4     0.030327  112.667  0.824749        Crete (live at SXSW)      Rock  "
      ]
     },
     "execution_count": 5,
     "metadata": {},
     "output_type": "execute_result"
    }
   ],
   "source": [
    "# Merge the relevant columns of tracks and echonest_metrics\n",
    "echo_tracks = echonest_metrics.merge(tracks[['title','track_id', 'genre_top']], on='track_id')\n",
    "# Quick look at the head of data\n",
    "echo_tracks.head()"
   ]
  },
  {
   "cell_type": "code",
   "execution_count": 6,
   "metadata": {},
   "outputs": [
    {
     "name": "stdout",
     "output_type": "stream",
     "text": [
      "Index(['track_id', 'bit_rate', 'comments', 'composer', 'date_created',\n",
      "       'date_recorded', 'duration', 'favorites', 'genre_top', 'genres',\n",
      "       'genres_all', 'information', 'interest', 'language_code', 'license',\n",
      "       'listens', 'lyricist', 'number', 'publisher', 'tags', 'title'],\n",
      "      dtype='object')\n"
     ]
    }
   ],
   "source": [
    "print(tracks.keys())"
   ]
  },
  {
   "cell_type": "code",
   "execution_count": 7,
   "metadata": {},
   "outputs": [
    {
     "name": "stdout",
     "output_type": "stream",
     "text": [
      "Index(['track_id', 'acousticness', 'danceability', 'energy',\n",
      "       'instrumentalness', 'liveness', 'speechiness', 'tempo', 'valence'],\n",
      "      dtype='object')\n"
     ]
    }
   ],
   "source": [
    "print(echonest_metrics.keys())"
   ]
  },
  {
   "cell_type": "code",
   "execution_count": 8,
   "metadata": {},
   "outputs": [
    {
     "name": "stdout",
     "output_type": "stream",
     "text": [
      "Index(['track_id', 'acousticness', 'danceability', 'energy',\n",
      "       'instrumentalness', 'liveness', 'speechiness', 'tempo', 'valence',\n",
      "       'title', 'genre_top'],\n",
      "      dtype='object')\n"
     ]
    }
   ],
   "source": [
    "print(echo_tracks.keys())"
   ]
  },
  {
   "cell_type": "code",
   "execution_count": 9,
   "metadata": {},
   "outputs": [
    {
     "name": "stdout",
     "output_type": "stream",
     "text": [
      "<class 'pandas.core.frame.DataFrame'>\n",
      "Int64Index: 4802 entries, 0 to 4801\n",
      "Data columns (total 11 columns):\n",
      "track_id            4802 non-null int64\n",
      "acousticness        4802 non-null float64\n",
      "danceability        4802 non-null float64\n",
      "energy              4802 non-null float64\n",
      "instrumentalness    4802 non-null float64\n",
      "liveness            4802 non-null float64\n",
      "speechiness         4802 non-null float64\n",
      "tempo               4802 non-null float64\n",
      "valence             4802 non-null float64\n",
      "title               4802 non-null object\n",
      "genre_top           4802 non-null object\n",
      "dtypes: float64(8), int64(1), object(2)\n",
      "memory usage: 450.2+ KB\n"
     ]
    }
   ],
   "source": [
    "# Inspect echo_tracks\n",
    "echo_tracks.info()"
   ]
  },
  {
   "cell_type": "markdown",
   "metadata": {},
   "source": [
    "#### *** 'title' and 'genre_top' are object data type. Later, we will drop them when we define our features and assign genre_top as our labels."
   ]
  },
  {
   "cell_type": "markdown",
   "metadata": {},
   "source": [
    "## Step 2. PAIRWISE RELATIONSHIPS BETWEEN CONTINUOS VARIABLES\n",
    "#### Explore correlations in our dataset using pandas corr function. Visually inspect the correlation table generated from DataFrame.corr() for any strong correlations.\n",
    "<p>We typically want to avoid using variables that have strong correlations with each other -- hence avoiding feature redundancy -- for a few reasons:</p>\n",
    "<ul>\n",
    "<li>To keep the model simple and improve interpretability (with many features, we run the risk of overfitting).</li>\n",
    "<li>When our datasets are very large, using fewer features can drastically speed up our computation time.</li>\n",
    "</ul>\n",
    "<p>To get a sense of whether there are any strongly correlated features in our data, we will use built-in functions in the <code>pandas</code> package.</p>\n",
    "\n",
    "#### Blue means positive, purple means negative. The stronger the color, the larger the correlation magnitude"
   ]
  },
  {
   "cell_type": "code",
   "execution_count": 10,
   "metadata": {},
   "outputs": [
    {
     "data": {
      "text/html": [
       "<style  type=\"text/css\" >\n",
       "    #T_aa46e962_38df_11ea_9d9a_acde48001122row0_col0 {\n",
       "            background-color:  #023858;\n",
       "            color:  #f1f1f1;\n",
       "        }    #T_aa46e962_38df_11ea_9d9a_acde48001122row0_col1 {\n",
       "            background-color:  #fff7fb;\n",
       "            color:  #000000;\n",
       "        }    #T_aa46e962_38df_11ea_9d9a_acde48001122row0_col2 {\n",
       "            background-color:  #d2d2e7;\n",
       "            color:  #000000;\n",
       "        }    #T_aa46e962_38df_11ea_9d9a_acde48001122row0_col3 {\n",
       "            background-color:  #b5c4df;\n",
       "            color:  #000000;\n",
       "        }    #T_aa46e962_38df_11ea_9d9a_acde48001122row0_col4 {\n",
       "            background-color:  #f5eef6;\n",
       "            color:  #000000;\n",
       "        }    #T_aa46e962_38df_11ea_9d9a_acde48001122row0_col5 {\n",
       "            background-color:  #e9e5f1;\n",
       "            color:  #000000;\n",
       "        }    #T_aa46e962_38df_11ea_9d9a_acde48001122row0_col6 {\n",
       "            background-color:  #d1d2e6;\n",
       "            color:  #000000;\n",
       "        }    #T_aa46e962_38df_11ea_9d9a_acde48001122row0_col7 {\n",
       "            background-color:  #e1dfed;\n",
       "            color:  #000000;\n",
       "        }    #T_aa46e962_38df_11ea_9d9a_acde48001122row0_col8 {\n",
       "            background-color:  #dedcec;\n",
       "            color:  #000000;\n",
       "        }    #T_aa46e962_38df_11ea_9d9a_acde48001122row1_col0 {\n",
       "            background-color:  #fff7fb;\n",
       "            color:  #000000;\n",
       "        }    #T_aa46e962_38df_11ea_9d9a_acde48001122row1_col1 {\n",
       "            background-color:  #023858;\n",
       "            color:  #f1f1f1;\n",
       "        }    #T_aa46e962_38df_11ea_9d9a_acde48001122row1_col2 {\n",
       "            background-color:  #e0dded;\n",
       "            color:  #000000;\n",
       "        }    #T_aa46e962_38df_11ea_9d9a_acde48001122row1_col3 {\n",
       "            background-color:  #fff7fb;\n",
       "            color:  #000000;\n",
       "        }    #T_aa46e962_38df_11ea_9d9a_acde48001122row1_col4 {\n",
       "            background-color:  #97b7d7;\n",
       "            color:  #000000;\n",
       "        }    #T_aa46e962_38df_11ea_9d9a_acde48001122row1_col5 {\n",
       "            background-color:  #f3edf5;\n",
       "            color:  #000000;\n",
       "        }    #T_aa46e962_38df_11ea_9d9a_acde48001122row1_col6 {\n",
       "            background-color:  #b8c6e0;\n",
       "            color:  #000000;\n",
       "        }    #T_aa46e962_38df_11ea_9d9a_acde48001122row1_col7 {\n",
       "            background-color:  #e1dfed;\n",
       "            color:  #000000;\n",
       "        }    #T_aa46e962_38df_11ea_9d9a_acde48001122row1_col8 {\n",
       "            background-color:  #e2dfee;\n",
       "            color:  #000000;\n",
       "        }    #T_aa46e962_38df_11ea_9d9a_acde48001122row2_col0 {\n",
       "            background-color:  #bdc8e1;\n",
       "            color:  #000000;\n",
       "        }    #T_aa46e962_38df_11ea_9d9a_acde48001122row2_col1 {\n",
       "            background-color:  #d0d1e6;\n",
       "            color:  #000000;\n",
       "        }    #T_aa46e962_38df_11ea_9d9a_acde48001122row2_col2 {\n",
       "            background-color:  #023858;\n",
       "            color:  #f1f1f1;\n",
       "        }    #T_aa46e962_38df_11ea_9d9a_acde48001122row2_col3 {\n",
       "            background-color:  #fbf3f9;\n",
       "            color:  #000000;\n",
       "        }    #T_aa46e962_38df_11ea_9d9a_acde48001122row2_col4 {\n",
       "            background-color:  #f3edf5;\n",
       "            color:  #000000;\n",
       "        }    #T_aa46e962_38df_11ea_9d9a_acde48001122row2_col5 {\n",
       "            background-color:  #fff7fb;\n",
       "            color:  #000000;\n",
       "        }    #T_aa46e962_38df_11ea_9d9a_acde48001122row2_col6 {\n",
       "            background-color:  #80aed2;\n",
       "            color:  #000000;\n",
       "        }    #T_aa46e962_38df_11ea_9d9a_acde48001122row2_col7 {\n",
       "            background-color:  #fff7fb;\n",
       "            color:  #000000;\n",
       "        }    #T_aa46e962_38df_11ea_9d9a_acde48001122row2_col8 {\n",
       "            background-color:  #529bc7;\n",
       "            color:  #000000;\n",
       "        }    #T_aa46e962_38df_11ea_9d9a_acde48001122row3_col0 {\n",
       "            background-color:  #a7bddb;\n",
       "            color:  #000000;\n",
       "        }    #T_aa46e962_38df_11ea_9d9a_acde48001122row3_col1 {\n",
       "            background-color:  #f5eff6;\n",
       "            color:  #000000;\n",
       "        }    #T_aa46e962_38df_11ea_9d9a_acde48001122row3_col2 {\n",
       "            background-color:  #fef6fa;\n",
       "            color:  #000000;\n",
       "        }    #T_aa46e962_38df_11ea_9d9a_acde48001122row3_col3 {\n",
       "            background-color:  #023858;\n",
       "            color:  #f1f1f1;\n",
       "        }    #T_aa46e962_38df_11ea_9d9a_acde48001122row3_col4 {\n",
       "            background-color:  #c4cbe3;\n",
       "            color:  #000000;\n",
       "        }    #T_aa46e962_38df_11ea_9d9a_acde48001122row3_col5 {\n",
       "            background-color:  #dcdaeb;\n",
       "            color:  #000000;\n",
       "        }    #T_aa46e962_38df_11ea_9d9a_acde48001122row3_col6 {\n",
       "            background-color:  #dedcec;\n",
       "            color:  #000000;\n",
       "        }    #T_aa46e962_38df_11ea_9d9a_acde48001122row3_col7 {\n",
       "            background-color:  #adc1dd;\n",
       "            color:  #000000;\n",
       "        }    #T_aa46e962_38df_11ea_9d9a_acde48001122row3_col8 {\n",
       "            background-color:  #d9d8ea;\n",
       "            color:  #000000;\n",
       "        }    #T_aa46e962_38df_11ea_9d9a_acde48001122row4_col0 {\n",
       "            background-color:  #f4eef6;\n",
       "            color:  #000000;\n",
       "        }    #T_aa46e962_38df_11ea_9d9a_acde48001122row4_col1 {\n",
       "            background-color:  #97b7d7;\n",
       "            color:  #000000;\n",
       "        }    #T_aa46e962_38df_11ea_9d9a_acde48001122row4_col2 {\n",
       "            background-color:  #fff7fb;\n",
       "            color:  #000000;\n",
       "        }    #T_aa46e962_38df_11ea_9d9a_acde48001122row4_col3 {\n",
       "            background-color:  #d2d3e7;\n",
       "            color:  #000000;\n",
       "        }    #T_aa46e962_38df_11ea_9d9a_acde48001122row4_col4 {\n",
       "            background-color:  #023858;\n",
       "            color:  #f1f1f1;\n",
       "        }    #T_aa46e962_38df_11ea_9d9a_acde48001122row4_col5 {\n",
       "            background-color:  #fdf5fa;\n",
       "            color:  #000000;\n",
       "        }    #T_aa46e962_38df_11ea_9d9a_acde48001122row4_col6 {\n",
       "            background-color:  #fff7fb;\n",
       "            color:  #000000;\n",
       "        }    #T_aa46e962_38df_11ea_9d9a_acde48001122row4_col7 {\n",
       "            background-color:  #d9d8ea;\n",
       "            color:  #000000;\n",
       "        }    #T_aa46e962_38df_11ea_9d9a_acde48001122row4_col8 {\n",
       "            background-color:  #fff7fb;\n",
       "            color:  #000000;\n",
       "        }    #T_aa46e962_38df_11ea_9d9a_acde48001122row5_col0 {\n",
       "            background-color:  #bdc8e1;\n",
       "            color:  #000000;\n",
       "        }    #T_aa46e962_38df_11ea_9d9a_acde48001122row5_col1 {\n",
       "            background-color:  #ced0e6;\n",
       "            color:  #000000;\n",
       "        }    #T_aa46e962_38df_11ea_9d9a_acde48001122row5_col2 {\n",
       "            background-color:  #ede8f3;\n",
       "            color:  #000000;\n",
       "        }    #T_aa46e962_38df_11ea_9d9a_acde48001122row5_col3 {\n",
       "            background-color:  #bdc8e1;\n",
       "            color:  #000000;\n",
       "        }    #T_aa46e962_38df_11ea_9d9a_acde48001122row5_col4 {\n",
       "            background-color:  #dbdaeb;\n",
       "            color:  #000000;\n",
       "        }    #T_aa46e962_38df_11ea_9d9a_acde48001122row5_col5 {\n",
       "            background-color:  #023858;\n",
       "            color:  #f1f1f1;\n",
       "        }    #T_aa46e962_38df_11ea_9d9a_acde48001122row5_col6 {\n",
       "            background-color:  #c0c9e2;\n",
       "            color:  #000000;\n",
       "        }    #T_aa46e962_38df_11ea_9d9a_acde48001122row5_col7 {\n",
       "            background-color:  #dcdaeb;\n",
       "            color:  #000000;\n",
       "        }    #T_aa46e962_38df_11ea_9d9a_acde48001122row5_col8 {\n",
       "            background-color:  #e8e4f0;\n",
       "            color:  #000000;\n",
       "        }    #T_aa46e962_38df_11ea_9d9a_acde48001122row6_col0 {\n",
       "            background-color:  #d0d1e6;\n",
       "            color:  #000000;\n",
       "        }    #T_aa46e962_38df_11ea_9d9a_acde48001122row6_col1 {\n",
       "            background-color:  #b8c6e0;\n",
       "            color:  #000000;\n",
       "        }    #T_aa46e962_38df_11ea_9d9a_acde48001122row6_col2 {\n",
       "            background-color:  #93b5d6;\n",
       "            color:  #000000;\n",
       "        }    #T_aa46e962_38df_11ea_9d9a_acde48001122row6_col3 {\n",
       "            background-color:  #eae6f1;\n",
       "            color:  #000000;\n",
       "        }    #T_aa46e962_38df_11ea_9d9a_acde48001122row6_col4 {\n",
       "            background-color:  #fff7fb;\n",
       "            color:  #000000;\n",
       "        }    #T_aa46e962_38df_11ea_9d9a_acde48001122row6_col5 {\n",
       "            background-color:  #eae6f1;\n",
       "            color:  #000000;\n",
       "        }    #T_aa46e962_38df_11ea_9d9a_acde48001122row6_col6 {\n",
       "            background-color:  #023858;\n",
       "            color:  #f1f1f1;\n",
       "        }    #T_aa46e962_38df_11ea_9d9a_acde48001122row6_col7 {\n",
       "            background-color:  #dbdaeb;\n",
       "            color:  #000000;\n",
       "        }    #T_aa46e962_38df_11ea_9d9a_acde48001122row6_col8 {\n",
       "            background-color:  #bfc9e1;\n",
       "            color:  #000000;\n",
       "        }    #T_aa46e962_38df_11ea_9d9a_acde48001122row7_col0 {\n",
       "            background-color:  #d0d1e6;\n",
       "            color:  #000000;\n",
       "        }    #T_aa46e962_38df_11ea_9d9a_acde48001122row7_col1 {\n",
       "            background-color:  #d0d1e6;\n",
       "            color:  #000000;\n",
       "        }    #T_aa46e962_38df_11ea_9d9a_acde48001122row7_col2 {\n",
       "            background-color:  #fef6fa;\n",
       "            color:  #000000;\n",
       "        }    #T_aa46e962_38df_11ea_9d9a_acde48001122row7_col3 {\n",
       "            background-color:  #a7bddb;\n",
       "            color:  #000000;\n",
       "        }    #T_aa46e962_38df_11ea_9d9a_acde48001122row7_col4 {\n",
       "            background-color:  #c5cce3;\n",
       "            color:  #000000;\n",
       "        }    #T_aa46e962_38df_11ea_9d9a_acde48001122row7_col5 {\n",
       "            background-color:  #f0eaf4;\n",
       "            color:  #000000;\n",
       "        }    #T_aa46e962_38df_11ea_9d9a_acde48001122row7_col6 {\n",
       "            background-color:  #c8cde4;\n",
       "            color:  #000000;\n",
       "        }    #T_aa46e962_38df_11ea_9d9a_acde48001122row7_col7 {\n",
       "            background-color:  #023858;\n",
       "            color:  #f1f1f1;\n",
       "        }    #T_aa46e962_38df_11ea_9d9a_acde48001122row7_col8 {\n",
       "            background-color:  #d6d6e9;\n",
       "            color:  #000000;\n",
       "        }    #T_aa46e962_38df_11ea_9d9a_acde48001122row8_col0 {\n",
       "            background-color:  #c6cce3;\n",
       "            color:  #000000;\n",
       "        }    #T_aa46e962_38df_11ea_9d9a_acde48001122row8_col1 {\n",
       "            background-color:  #cdd0e5;\n",
       "            color:  #000000;\n",
       "        }    #T_aa46e962_38df_11ea_9d9a_acde48001122row8_col2 {\n",
       "            background-color:  #4c99c5;\n",
       "            color:  #000000;\n",
       "        }    #T_aa46e962_38df_11ea_9d9a_acde48001122row8_col3 {\n",
       "            background-color:  #d1d2e6;\n",
       "            color:  #000000;\n",
       "        }    #T_aa46e962_38df_11ea_9d9a_acde48001122row8_col4 {\n",
       "            background-color:  #efe9f3;\n",
       "            color:  #000000;\n",
       "        }    #T_aa46e962_38df_11ea_9d9a_acde48001122row8_col5 {\n",
       "            background-color:  #f7f0f7;\n",
       "            color:  #000000;\n",
       "        }    #T_aa46e962_38df_11ea_9d9a_acde48001122row8_col6 {\n",
       "            background-color:  #a5bddb;\n",
       "            color:  #000000;\n",
       "        }    #T_aa46e962_38df_11ea_9d9a_acde48001122row8_col7 {\n",
       "            background-color:  #d3d4e7;\n",
       "            color:  #000000;\n",
       "        }    #T_aa46e962_38df_11ea_9d9a_acde48001122row8_col8 {\n",
       "            background-color:  #023858;\n",
       "            color:  #f1f1f1;\n",
       "        }</style><table id=\"T_aa46e962_38df_11ea_9d9a_acde48001122\" ><thead>    <tr>        <th class=\"blank level0\" ></th>        <th class=\"col_heading level0 col0\" >track_id</th>        <th class=\"col_heading level0 col1\" >acousticness</th>        <th class=\"col_heading level0 col2\" >danceability</th>        <th class=\"col_heading level0 col3\" >energy</th>        <th class=\"col_heading level0 col4\" >instrumentalness</th>        <th class=\"col_heading level0 col5\" >liveness</th>        <th class=\"col_heading level0 col6\" >speechiness</th>        <th class=\"col_heading level0 col7\" >tempo</th>        <th class=\"col_heading level0 col8\" >valence</th>    </tr></thead><tbody>\n",
       "                <tr>\n",
       "                        <th id=\"T_aa46e962_38df_11ea_9d9a_acde48001122level0_row0\" class=\"row_heading level0 row0\" >track_id</th>\n",
       "                        <td id=\"T_aa46e962_38df_11ea_9d9a_acde48001122row0_col0\" class=\"data row0 col0\" >1</td>\n",
       "                        <td id=\"T_aa46e962_38df_11ea_9d9a_acde48001122row0_col1\" class=\"data row0 col1\" >-0.372282</td>\n",
       "                        <td id=\"T_aa46e962_38df_11ea_9d9a_acde48001122row0_col2\" class=\"data row0 col2\" >0.0494541</td>\n",
       "                        <td id=\"T_aa46e962_38df_11ea_9d9a_acde48001122row0_col3\" class=\"data row0 col3\" >0.140703</td>\n",
       "                        <td id=\"T_aa46e962_38df_11ea_9d9a_acde48001122row0_col4\" class=\"data row0 col4\" >-0.275623</td>\n",
       "                        <td id=\"T_aa46e962_38df_11ea_9d9a_acde48001122row0_col5\" class=\"data row0 col5\" >0.0482307</td>\n",
       "                        <td id=\"T_aa46e962_38df_11ea_9d9a_acde48001122row0_col6\" class=\"data row0 col6\" >-0.0269951</td>\n",
       "                        <td id=\"T_aa46e962_38df_11ea_9d9a_acde48001122row0_col7\" class=\"data row0 col7\" >-0.0253918</td>\n",
       "                        <td id=\"T_aa46e962_38df_11ea_9d9a_acde48001122row0_col8\" class=\"data row0 col8\" >0.0100698</td>\n",
       "            </tr>\n",
       "            <tr>\n",
       "                        <th id=\"T_aa46e962_38df_11ea_9d9a_acde48001122level0_row1\" class=\"row_heading level0 row1\" >acousticness</th>\n",
       "                        <td id=\"T_aa46e962_38df_11ea_9d9a_acde48001122row1_col0\" class=\"data row1 col0\" >-0.372282</td>\n",
       "                        <td id=\"T_aa46e962_38df_11ea_9d9a_acde48001122row1_col1\" class=\"data row1 col1\" >1</td>\n",
       "                        <td id=\"T_aa46e962_38df_11ea_9d9a_acde48001122row1_col2\" class=\"data row1 col2\" >-0.0289537</td>\n",
       "                        <td id=\"T_aa46e962_38df_11ea_9d9a_acde48001122row1_col3\" class=\"data row1 col3\" >-0.281619</td>\n",
       "                        <td id=\"T_aa46e962_38df_11ea_9d9a_acde48001122row1_col4\" class=\"data row1 col4\" >0.19478</td>\n",
       "                        <td id=\"T_aa46e962_38df_11ea_9d9a_acde48001122row1_col5\" class=\"data row1 col5\" >-0.0199914</td>\n",
       "                        <td id=\"T_aa46e962_38df_11ea_9d9a_acde48001122row1_col6\" class=\"data row1 col6\" >0.072204</td>\n",
       "                        <td id=\"T_aa46e962_38df_11ea_9d9a_acde48001122row1_col7\" class=\"data row1 col7\" >-0.0263097</td>\n",
       "                        <td id=\"T_aa46e962_38df_11ea_9d9a_acde48001122row1_col8\" class=\"data row1 col8\" >-0.0138406</td>\n",
       "            </tr>\n",
       "            <tr>\n",
       "                        <th id=\"T_aa46e962_38df_11ea_9d9a_acde48001122level0_row2\" class=\"row_heading level0 row2\" >danceability</th>\n",
       "                        <td id=\"T_aa46e962_38df_11ea_9d9a_acde48001122row2_col0\" class=\"data row2 col0\" >0.0494541</td>\n",
       "                        <td id=\"T_aa46e962_38df_11ea_9d9a_acde48001122row2_col1\" class=\"data row2 col1\" >-0.0289537</td>\n",
       "                        <td id=\"T_aa46e962_38df_11ea_9d9a_acde48001122row2_col2\" class=\"data row2 col2\" >1</td>\n",
       "                        <td id=\"T_aa46e962_38df_11ea_9d9a_acde48001122row2_col3\" class=\"data row2 col3\" >-0.242032</td>\n",
       "                        <td id=\"T_aa46e962_38df_11ea_9d9a_acde48001122row2_col4\" class=\"data row2 col4\" >-0.255217</td>\n",
       "                        <td id=\"T_aa46e962_38df_11ea_9d9a_acde48001122row2_col5\" class=\"data row2 col5\" >-0.106584</td>\n",
       "                        <td id=\"T_aa46e962_38df_11ea_9d9a_acde48001122row2_col6\" class=\"data row2 col6\" >0.276206</td>\n",
       "                        <td id=\"T_aa46e962_38df_11ea_9d9a_acde48001122row2_col7\" class=\"data row2 col7\" >-0.242089</td>\n",
       "                        <td id=\"T_aa46e962_38df_11ea_9d9a_acde48001122row2_col8\" class=\"data row2 col8\" >0.473165</td>\n",
       "            </tr>\n",
       "            <tr>\n",
       "                        <th id=\"T_aa46e962_38df_11ea_9d9a_acde48001122level0_row3\" class=\"row_heading level0 row3\" >energy</th>\n",
       "                        <td id=\"T_aa46e962_38df_11ea_9d9a_acde48001122row3_col0\" class=\"data row3 col0\" >0.140703</td>\n",
       "                        <td id=\"T_aa46e962_38df_11ea_9d9a_acde48001122row3_col1\" class=\"data row3 col1\" >-0.281619</td>\n",
       "                        <td id=\"T_aa46e962_38df_11ea_9d9a_acde48001122row3_col2\" class=\"data row3 col2\" >-0.242032</td>\n",
       "                        <td id=\"T_aa46e962_38df_11ea_9d9a_acde48001122row3_col3\" class=\"data row3 col3\" >1</td>\n",
       "                        <td id=\"T_aa46e962_38df_11ea_9d9a_acde48001122row3_col4\" class=\"data row3 col4\" >0.0282377</td>\n",
       "                        <td id=\"T_aa46e962_38df_11ea_9d9a_acde48001122row3_col5\" class=\"data row3 col5\" >0.113331</td>\n",
       "                        <td id=\"T_aa46e962_38df_11ea_9d9a_acde48001122row3_col6\" class=\"data row3 col6\" >-0.109983</td>\n",
       "                        <td id=\"T_aa46e962_38df_11ea_9d9a_acde48001122row3_col7\" class=\"data row3 col7\" >0.195227</td>\n",
       "                        <td id=\"T_aa46e962_38df_11ea_9d9a_acde48001122row3_col8\" class=\"data row3 col8\" >0.0386027</td>\n",
       "            </tr>\n",
       "            <tr>\n",
       "                        <th id=\"T_aa46e962_38df_11ea_9d9a_acde48001122level0_row4\" class=\"row_heading level0 row4\" >instrumentalness</th>\n",
       "                        <td id=\"T_aa46e962_38df_11ea_9d9a_acde48001122row4_col0\" class=\"data row4 col0\" >-0.275623</td>\n",
       "                        <td id=\"T_aa46e962_38df_11ea_9d9a_acde48001122row4_col1\" class=\"data row4 col1\" >0.19478</td>\n",
       "                        <td id=\"T_aa46e962_38df_11ea_9d9a_acde48001122row4_col2\" class=\"data row4 col2\" >-0.255217</td>\n",
       "                        <td id=\"T_aa46e962_38df_11ea_9d9a_acde48001122row4_col3\" class=\"data row4 col3\" >0.0282377</td>\n",
       "                        <td id=\"T_aa46e962_38df_11ea_9d9a_acde48001122row4_col4\" class=\"data row4 col4\" >1</td>\n",
       "                        <td id=\"T_aa46e962_38df_11ea_9d9a_acde48001122row4_col5\" class=\"data row4 col5\" >-0.0910218</td>\n",
       "                        <td id=\"T_aa46e962_38df_11ea_9d9a_acde48001122row4_col6\" class=\"data row4 col6\" >-0.366762</td>\n",
       "                        <td id=\"T_aa46e962_38df_11ea_9d9a_acde48001122row4_col7\" class=\"data row4 col7\" >0.022215</td>\n",
       "                        <td id=\"T_aa46e962_38df_11ea_9d9a_acde48001122row4_col8\" class=\"data row4 col8\" >-0.219967</td>\n",
       "            </tr>\n",
       "            <tr>\n",
       "                        <th id=\"T_aa46e962_38df_11ea_9d9a_acde48001122level0_row5\" class=\"row_heading level0 row5\" >liveness</th>\n",
       "                        <td id=\"T_aa46e962_38df_11ea_9d9a_acde48001122row5_col0\" class=\"data row5 col0\" >0.0482307</td>\n",
       "                        <td id=\"T_aa46e962_38df_11ea_9d9a_acde48001122row5_col1\" class=\"data row5 col1\" >-0.0199914</td>\n",
       "                        <td id=\"T_aa46e962_38df_11ea_9d9a_acde48001122row5_col2\" class=\"data row5 col2\" >-0.106584</td>\n",
       "                        <td id=\"T_aa46e962_38df_11ea_9d9a_acde48001122row5_col3\" class=\"data row5 col3\" >0.113331</td>\n",
       "                        <td id=\"T_aa46e962_38df_11ea_9d9a_acde48001122row5_col4\" class=\"data row5 col4\" >-0.0910218</td>\n",
       "                        <td id=\"T_aa46e962_38df_11ea_9d9a_acde48001122row5_col5\" class=\"data row5 col5\" >1</td>\n",
       "                        <td id=\"T_aa46e962_38df_11ea_9d9a_acde48001122row5_col6\" class=\"data row5 col6\" >0.0411725</td>\n",
       "                        <td id=\"T_aa46e962_38df_11ea_9d9a_acde48001122row5_col7\" class=\"data row5 col7\" >0.00273169</td>\n",
       "                        <td id=\"T_aa46e962_38df_11ea_9d9a_acde48001122row5_col8\" class=\"data row5 col8\" >-0.0450931</td>\n",
       "            </tr>\n",
       "            <tr>\n",
       "                        <th id=\"T_aa46e962_38df_11ea_9d9a_acde48001122level0_row6\" class=\"row_heading level0 row6\" >speechiness</th>\n",
       "                        <td id=\"T_aa46e962_38df_11ea_9d9a_acde48001122row6_col0\" class=\"data row6 col0\" >-0.0269951</td>\n",
       "                        <td id=\"T_aa46e962_38df_11ea_9d9a_acde48001122row6_col1\" class=\"data row6 col1\" >0.072204</td>\n",
       "                        <td id=\"T_aa46e962_38df_11ea_9d9a_acde48001122row6_col2\" class=\"data row6 col2\" >0.276206</td>\n",
       "                        <td id=\"T_aa46e962_38df_11ea_9d9a_acde48001122row6_col3\" class=\"data row6 col3\" >-0.109983</td>\n",
       "                        <td id=\"T_aa46e962_38df_11ea_9d9a_acde48001122row6_col4\" class=\"data row6 col4\" >-0.366762</td>\n",
       "                        <td id=\"T_aa46e962_38df_11ea_9d9a_acde48001122row6_col5\" class=\"data row6 col5\" >0.0411725</td>\n",
       "                        <td id=\"T_aa46e962_38df_11ea_9d9a_acde48001122row6_col6\" class=\"data row6 col6\" >1</td>\n",
       "                        <td id=\"T_aa46e962_38df_11ea_9d9a_acde48001122row6_col7\" class=\"data row6 col7\" >0.00824055</td>\n",
       "                        <td id=\"T_aa46e962_38df_11ea_9d9a_acde48001122row6_col8\" class=\"data row6 col8\" >0.149894</td>\n",
       "            </tr>\n",
       "            <tr>\n",
       "                        <th id=\"T_aa46e962_38df_11ea_9d9a_acde48001122level0_row7\" class=\"row_heading level0 row7\" >tempo</th>\n",
       "                        <td id=\"T_aa46e962_38df_11ea_9d9a_acde48001122row7_col0\" class=\"data row7 col0\" >-0.0253918</td>\n",
       "                        <td id=\"T_aa46e962_38df_11ea_9d9a_acde48001122row7_col1\" class=\"data row7 col1\" >-0.0263097</td>\n",
       "                        <td id=\"T_aa46e962_38df_11ea_9d9a_acde48001122row7_col2\" class=\"data row7 col2\" >-0.242089</td>\n",
       "                        <td id=\"T_aa46e962_38df_11ea_9d9a_acde48001122row7_col3\" class=\"data row7 col3\" >0.195227</td>\n",
       "                        <td id=\"T_aa46e962_38df_11ea_9d9a_acde48001122row7_col4\" class=\"data row7 col4\" >0.022215</td>\n",
       "                        <td id=\"T_aa46e962_38df_11ea_9d9a_acde48001122row7_col5\" class=\"data row7 col5\" >0.00273169</td>\n",
       "                        <td id=\"T_aa46e962_38df_11ea_9d9a_acde48001122row7_col6\" class=\"data row7 col6\" >0.00824055</td>\n",
       "                        <td id=\"T_aa46e962_38df_11ea_9d9a_acde48001122row7_col7\" class=\"data row7 col7\" >1</td>\n",
       "                        <td id=\"T_aa46e962_38df_11ea_9d9a_acde48001122row7_col8\" class=\"data row7 col8\" >0.0522212</td>\n",
       "            </tr>\n",
       "            <tr>\n",
       "                        <th id=\"T_aa46e962_38df_11ea_9d9a_acde48001122level0_row8\" class=\"row_heading level0 row8\" >valence</th>\n",
       "                        <td id=\"T_aa46e962_38df_11ea_9d9a_acde48001122row8_col0\" class=\"data row8 col0\" >0.0100698</td>\n",
       "                        <td id=\"T_aa46e962_38df_11ea_9d9a_acde48001122row8_col1\" class=\"data row8 col1\" >-0.0138406</td>\n",
       "                        <td id=\"T_aa46e962_38df_11ea_9d9a_acde48001122row8_col2\" class=\"data row8 col2\" >0.473165</td>\n",
       "                        <td id=\"T_aa46e962_38df_11ea_9d9a_acde48001122row8_col3\" class=\"data row8 col3\" >0.0386027</td>\n",
       "                        <td id=\"T_aa46e962_38df_11ea_9d9a_acde48001122row8_col4\" class=\"data row8 col4\" >-0.219967</td>\n",
       "                        <td id=\"T_aa46e962_38df_11ea_9d9a_acde48001122row8_col5\" class=\"data row8 col5\" >-0.0450931</td>\n",
       "                        <td id=\"T_aa46e962_38df_11ea_9d9a_acde48001122row8_col6\" class=\"data row8 col6\" >0.149894</td>\n",
       "                        <td id=\"T_aa46e962_38df_11ea_9d9a_acde48001122row8_col7\" class=\"data row8 col7\" >0.0522212</td>\n",
       "                        <td id=\"T_aa46e962_38df_11ea_9d9a_acde48001122row8_col8\" class=\"data row8 col8\" >1</td>\n",
       "            </tr>\n",
       "    </tbody></table>"
      ],
      "text/plain": [
       "<pandas.io.formats.style.Styler at 0x1a1a2cb198>"
      ]
     },
     "execution_count": 10,
     "metadata": {},
     "output_type": "execute_result"
    }
   ],
   "source": [
    "# Create a correlation matrix\n",
    "corr_metrics = echo_tracks.corr()\n",
    "corr_metrics.style.background_gradient()"
   ]
  },
  {
   "cell_type": "markdown",
   "metadata": {},
   "source": [
    "## Step 3. Normalizing the feature data\n",
    "\n",
    "using the absolute variance of a feature to rotate the data, a feature with a broader range of values will overpower and bias the algorithm relative to the other features. To avoid this, we must first normalize our data. There are a few methods to do this, but a common way is through <em>standardization</em>, such that all features have a mean = 0 and standard deviation = 1 (the resultant is a z-score)."
   ]
  },
  {
   "cell_type": "code",
   "execution_count": 11,
   "metadata": {},
   "outputs": [],
   "source": [
    "# Define our features \n",
    "features = echo_tracks.drop(['title', 'track_id', 'genre_top'], axis=1)\n",
    "\n",
    "# Define our labels\n",
    "labels = echo_tracks['genre_top']\n",
    "\n",
    "# Scale the features and set the values to a new variable\n",
    "scaler = StandardScaler()\n",
    "scaled_train_features = scaler.fit_transform(features)"
   ]
  },
  {
   "cell_type": "markdown",
   "metadata": {},
   "source": [
    "# PART 1: WITHOUT PRINCIPLE COMPONENT ANALYSIS (PCA)"
   ]
  },
  {
   "cell_type": "markdown",
   "metadata": {},
   "source": [
    "## Step 4. Train a decision tree to classify genre\n",
    "<p> We first need to split our dataset into 'train' and 'test' subsets, where the 'train' subset will be used to train our model while the 'test' dataset allows for model performance validation.</p>\n",
    "<p>Here, we will be using a simple algorithm known as a decision tree. Decision trees are rule-based classifiers that take in features and follow a 'tree structure' of binary decisions to ultimately classify a data point into one of two or more categories. In addition to being easy to both use and interpret, decision trees allow us to visualize the 'logic flowchart' that the model generates from the training data.</p>\n",
    "<p>Here is an example of a decision tree that demonstrates the process by which an input image (in this case, of a shape) might be classified based on the number of sides it has and whether it is rotated.</p>\n",
    "<p><img src=\"https://s3.amazonaws.com/assets.datacamp.com/production/project_449/img/simple_decision_tree.png\" alt=\"Decision Tree Flow Chart Example\" width=\"350px\"></p>"
   ]
  },
  {
   "cell_type": "code",
   "execution_count": 12,
   "metadata": {},
   "outputs": [],
   "source": [
    "# Split our data\n",
    "train_features, test_features, train_labels, test_labels = train_test_split(scaled_train_features, labels, random_state=10)\n",
    "\n",
    "# Train our decision tree\n",
    "tree = DecisionTreeClassifier(random_state=10)\n",
    "tree.fit(train_features, train_labels)\n",
    "\n",
    "# Predict the labels for the test data\n",
    "pred_labels_tree = tree.predict(test_features)"
   ]
  },
  {
   "cell_type": "markdown",
   "metadata": {},
   "source": [
    "## Step 5. Using Logistic Regression\n",
    "<p>Although our tree's performance is decent, it's a bad idea to immediately assume that it's therefore the perfect tool for this job -- there's always the possibility of other models that will perform even better! It's always a worthwhile idea to at least test a few other algorithms and find the one that's best for our data.</p>\n",
    "<p>Sometimes simplest is best, and so we will start by applying <strong>logistic regression</strong>. Logistic regression makes use of what's called the logistic function to calculate the odds that a given data point belongs to a given class. Once we have both models, we can compare them on a few performance metrics, such as false positive and false negative rate (or how many points are inaccurately classified). </p>"
   ]
  },
  {
   "cell_type": "code",
   "execution_count": 13,
   "metadata": {},
   "outputs": [],
   "source": [
    "# Train our logistic regression and predict labels for the test set\n",
    "logreg = LogisticRegression(random_state =10)\n",
    "logreg.fit(train_features, train_labels)\n",
    "\n",
    "# Predict the labels for the test data\n",
    "pred_labels_logit = logreg.predict(test_features)"
   ]
  },
  {
   "cell_type": "markdown",
   "metadata": {},
   "source": [
    "## Step 6. Using Random Forest\n",
    "<p>Random Forest is an Ensemble method which is a meta estimator that fits a number of decision tree classifiers on various sub-samples of the dataset and uses averaging to improve the predictive accuracy and control over-fitting. The sub-sample size is always the same as the original input sample size but the samples are drawn with replacement if bootstrap=True (default)</p>"
   ]
  },
  {
   "cell_type": "code",
   "execution_count": 14,
   "metadata": {},
   "outputs": [],
   "source": [
    "# Train the data\n",
    "rfc = RandomForestClassifier(random_state =10)\n",
    "rfc.fit(train_features, train_labels)\n",
    "\n",
    "# Predict the labels for the test data\n",
    "pred_labels_rfc = rfc.predict(test_features)"
   ]
  },
  {
   "cell_type": "markdown",
   "metadata": {},
   "source": [
    "## Step 7. Now, we compare the models to see which one is the best"
   ]
  },
  {
   "cell_type": "code",
   "execution_count": 15,
   "metadata": {},
   "outputs": [
    {
     "name": "stdout",
     "output_type": "stream",
     "text": [
      "Decision Tree: \n",
      "               precision    recall  f1-score   support\n",
      "\n",
      "     Hip-Hop       0.74      0.71      0.73       239\n",
      "        Rock       0.93      0.94      0.93       962\n",
      "\n",
      "    accuracy                           0.89      1201\n",
      "   macro avg       0.84      0.82      0.83      1201\n",
      "weighted avg       0.89      0.89      0.89      1201\n",
      "\n",
      "Logistic Regression: \n",
      "               precision    recall  f1-score   support\n",
      "\n",
      "     Hip-Hop       0.63      0.78      0.70       185\n",
      "        Rock       0.96      0.92      0.94      1016\n",
      "\n",
      "    accuracy                           0.90      1201\n",
      "   macro avg       0.79      0.85      0.82      1201\n",
      "weighted avg       0.91      0.90      0.90      1201\n",
      "\n",
      "Random Forest: \n",
      "               precision    recall  f1-score   support\n",
      "\n",
      "     Hip-Hop       0.78      0.81      0.79       221\n",
      "        Rock       0.96      0.95      0.95       980\n",
      "\n",
      "    accuracy                           0.92      1201\n",
      "   macro avg       0.87      0.88      0.87      1201\n",
      "weighted avg       0.92      0.92      0.92      1201\n",
      "\n"
     ]
    }
   ],
   "source": [
    "# Compare the models\n",
    "print(      \"Decision Tree: \\n\", classification_report(pred_labels_tree, test_labels))\n",
    "print(\"Logistic Regression: \\n\", classification_report(pred_labels_logit, test_labels))\n",
    "print(      \"Random Forest: \\n\", classification_report(pred_labels_rfc, test_labels))"
   ]
  },
  {
   "cell_type": "markdown",
   "metadata": {},
   "source": [
    "#### The accuracy of all three models Decision Tree, Logistic Regression, Random Forest are 89%, 90% and 92% accordingly. We can see that the Random Forest is the best one."
   ]
  },
  {
   "cell_type": "markdown",
   "metadata": {},
   "source": [
    "## Step 8. Balancing our data for greater performance ???\n",
    "<p>Both our models do similarly well, boasting an average precision of 87% each. However, looking at our classification report, we can see that rock songs are fairly well classified, but hip-hop songs are disproportionately misclassified as rock songs. </p>\n",
    "<p>Why might this be the case? Well, just by looking at the number of data points we have for each class, we see that we have far more data points for the rock classification than for hip-hop, potentially skewing our model's ability to distinguish between classes. This also tells us that most of our model's accuracy is driven by its ability to classify just rock songs, which is less than ideal.</p>\n",
    "<p>To account for this, we can weight the value of a correct classification in each class inversely to the occurrence of data points for each class. Since a correct classification for \"Rock\" is not more important than a correct classification for \"Hip-Hop\" (and vice versa), we only need to account for differences in <em>sample size</em> of our data points when weighting our classes here, and not relative importance of each class. </p>"
   ]
  },
  {
   "cell_type": "code",
   "execution_count": 16,
   "metadata": {},
   "outputs": [],
   "source": [
    "# Subset only the hip-hop tracks, and then only the rock tracks\n",
    "hop_only  = echo_tracks[echo_tracks['genre_top'] =='Hip-Hop']\n",
    "rock_only = echo_tracks[echo_tracks['genre_top'] =='Rock']"
   ]
  },
  {
   "cell_type": "code",
   "execution_count": 17,
   "metadata": {},
   "outputs": [
    {
     "data": {
      "text/plain": [
       "Rock       3892\n",
       "Hip-Hop     910\n",
       "Name: genre_top, dtype: int64"
      ]
     },
     "execution_count": 17,
     "metadata": {},
     "output_type": "execute_result"
    }
   ],
   "source": [
    "echo_tracks['genre_top'].value_counts()"
   ]
  },
  {
   "cell_type": "code",
   "execution_count": 18,
   "metadata": {},
   "outputs": [
    {
     "data": {
      "text/plain": [
       "Rock       0.810496\n",
       "Hip-Hop    0.189504\n",
       "Name: genre_top, dtype: float64"
      ]
     },
     "execution_count": 18,
     "metadata": {},
     "output_type": "execute_result"
    }
   ],
   "source": [
    "echo_tracks['genre_top'].value_counts(normalize=True)"
   ]
  },
  {
   "cell_type": "code",
   "execution_count": 19,
   "metadata": {},
   "outputs": [
    {
     "data": {
      "text/plain": [
       "<matplotlib.axes._subplots.AxesSubplot at 0x1a1a2c9be0>"
      ]
     },
     "execution_count": 19,
     "metadata": {},
     "output_type": "execute_result"
    },
    {
     "data": {
      "image/png": "[encoded data removed]",
      "text/plain": [
       "<Figure size 432x288 with 1 Axes>"
      ]
     },
     "metadata": {
      "needs_background": "light"
     },
     "output_type": "display_data"
    }
   ],
   "source": [
    "echo_tracks['genre_top'].value_counts(normalize =True).plot(kind ='bar')"
   ]
  },
  {
   "cell_type": "code",
   "execution_count": 20,
   "metadata": {},
   "outputs": [],
   "source": [
    "# sample the rocks songs to be the same number as there are hip-hop songs\n",
    "rock_only = rock_only.sample(len(hop_only), random_state =10)\n",
    "\n",
    "# concatenate the dataframes rock_only and hop_only\n",
    "rock_hop_bal = pd.concat([rock_only, hop_only])\n",
    "\n",
    "# The features, labels, and pca projection are created for the balanced dataframe\n",
    "features = rock_hop_bal.drop(['title', 'genre_top', 'track_id'], axis=1) \n",
    "labels   = rock_hop_bal['genre_top']\n",
    "\n",
    "# Scale the features and set the values to a new variable\n",
    "scaler = StandardScaler()\n",
    "scaled_train_features = scaler.fit_transform(features)\n",
    "\n",
    "# Redefine the train and test set with the pca_projection from the balanced data\n",
    "train_features, test_features, train_labels, test_labels = train_test_split(scaled_train_features, labels, random_state =10)"
   ]
  },
  {
   "cell_type": "markdown",
   "metadata": {},
   "source": [
    "## Step 9. Does balancing our dataset improve model bias?\n",
    "<p>We've now balanced our dataset, but in doing so, we've removed a lot of data points that might have been crucial to training our models. Let's test to see if balancing our data improves model bias towards the \"Rock\" classification while retaining overall classification performance. </p>\n",
    "<p>Note that we have already reduced the size of our dataset and will go forward without applying any dimensionality reduction. In practice, we would consider dimensionality reduction more rigorously when dealing with vastly large datasets and when computation times become prohibitively large.</p>"
   ]
  },
  {
   "cell_type": "code",
   "execution_count": 21,
   "metadata": {},
   "outputs": [
    {
     "name": "stdout",
     "output_type": "stream",
     "text": [
      "Decision Tree: \n",
      "               precision    recall  f1-score   support\n",
      "\n",
      "     Hip-Hop       0.86      0.85      0.85       232\n",
      "        Rock       0.84      0.85      0.85       223\n",
      "\n",
      "    accuracy                           0.85       455\n",
      "   macro avg       0.85      0.85      0.85       455\n",
      "weighted avg       0.85      0.85      0.85       455\n",
      "\n",
      "Logistic Regression: \n",
      "               precision    recall  f1-score   support\n",
      "\n",
      "     Hip-Hop       0.85      0.86      0.86       227\n",
      "        Rock       0.86      0.85      0.86       228\n",
      "\n",
      "    accuracy                           0.86       455\n",
      "   macro avg       0.86      0.86      0.86       455\n",
      "weighted avg       0.86      0.86      0.86       455\n",
      "\n",
      "Random Forest: \n",
      "               precision    recall  f1-score   support\n",
      "\n",
      "     Hip-Hop       0.92      0.89      0.90       237\n",
      "        Rock       0.88      0.91      0.90       218\n",
      "\n",
      "    accuracy                           0.90       455\n",
      "   macro avg       0.90      0.90      0.90       455\n",
      "weighted avg       0.90      0.90      0.90       455\n",
      "\n"
     ]
    }
   ],
   "source": [
    "# Train our decision tree on the balanced data\n",
    "tree = DecisionTreeClassifier(random_state =10)\n",
    "tree.fit(train_features, train_labels)\n",
    "pred_labels_tree = tree.predict(test_features)\n",
    "\n",
    "# Train our logistic regression on the balanced data\n",
    "logreg = LogisticRegression(random_state =10)\n",
    "logreg.fit(train_features, train_labels)\n",
    "pred_labels_logit = logreg.predict(test_features)\n",
    "\n",
    "# Train our random forest on the balanced data\n",
    "rfc = RandomForestClassifier(random_state =10)\n",
    "rfc.fit(train_features, train_labels)\n",
    "pred_labels_rfc = rfc.predict(test_features)\n",
    "\n",
    "# Compare the models\n",
    "print(      \"Decision Tree: \\n\", classification_report(pred_labels_tree, test_labels))\n",
    "print(\"Logistic Regression: \\n\", classification_report(pred_labels_logit, test_labels))\n",
    "print(      \"Random Forest: \\n\", classification_report(pred_labels_rfc, test_labels))"
   ]
  },
  {
   "cell_type": "markdown",
   "metadata": {},
   "source": [
    "#### Compare the classification results between Before and After Balancing data. We have a conclusion that is balancing our data didn't improve the accuracy of our models."
   ]
  },
  {
   "cell_type": "markdown",
   "metadata": {},
   "source": [
    "## Step 10. Using cross-validation to evaluate our models\n",
    "<p>Balancing our data has removed bias towards the more prevalent class. To get a good sense of how well our models are actually performing, we can apply what's called <strong>cross-validation</strong> (CV). This step allows us to compare models in a more rigorous fashion.</p>\n",
    "<p>Since the way our data is split into train and test sets can impact model performance, CV attempts to split the data multiple ways and test the model on each of the splits. Although there are many different CV methods, all with their own advantages and disadvantages, we will use what's known as <strong>K-fold</strong> CV here. K-fold first splits the data into K different, equally sized subsets. Then, it iteratively uses each subset as a test set while using the remainder of the data as train sets. Finally, we can then aggregate the results from each fold for a final model performance score.</p>"
   ]
  },
  {
   "cell_type": "code",
   "execution_count": 22,
   "metadata": {},
   "outputs": [
    {
     "name": "stdout",
     "output_type": "stream",
     "text": [
      "Compare the models WITHOUT PCA and WITHOUT Grid Search Hyperparameter Tuning: \n",
      " Decision Tree       : 0.804945054945055 \n",
      " Logistic Regression : 0.8087912087912088 \n",
      " Random Forest       : 0.8637362637362639\n"
     ]
    }
   ],
   "source": [
    "# Set up our K-fold cross-validation\n",
    "kf = KFold(10, random_state=10)\n",
    "\n",
    "tree        = DecisionTreeClassifier(random_state=10)\n",
    "logreg      = LogisticRegression(random_state=10)\n",
    "randforest  = RandomForestClassifier(random_state =10)\n",
    "\n",
    "# Train our models using KFold cv\n",
    "tree_score  = cross_val_score(tree,features, labels, cv=kf)\n",
    "logit_score = cross_val_score(logreg,features, labels, cv=kf)\n",
    "randf_score = cross_val_score(randforest,features, labels,cv=kf)\n",
    "\n",
    "# Print the mean of each array of scores\n",
    "print(\"Compare the models WITHOUT PCA and WITHOUT Grid Search Hyperparameter Tuning:\",\"\\n\",\n",
    "      \"Decision Tree       :\", np.mean(tree_score),\"\\n\",\n",
    "      \"Logistic Regression :\", np.mean(logit_score),\"\\n\",\n",
    "      \"Random Forest       :\", np.mean(randf_score))"
   ]
  },
  {
   "cell_type": "markdown",
   "metadata": {},
   "source": [
    "#### We see that Random Forest seems to give the best score for our classification problem. Now, we will use Hyperparameter to fine tuning the algorithm to find the best parameters for the model"
   ]
  },
  {
   "cell_type": "markdown",
   "metadata": {},
   "source": [
    "## Step 11. Use Hyperparameter to further tuning the model\n",
    "<p>A Machine Learning model is defined as a mathematical model with a number of parameters that need to be learned from the data. However, there are some parameters, known as <strong>Hyperparameters</strong> and those cannot be directly learned. They are commonly chosen by human based on some intuition or hit and trial before the actual training begins.<p>\n",
    "<p>These parameters exhibits their importance by improving performance of the model such as its complexity or its learning rate. Models can have many hyper-parameters and finding the best combination of parameters can be treated as a search problem.<p>"
   ]
  },
  {
   "cell_type": "code",
   "execution_count": 23,
   "metadata": {},
   "outputs": [
    {
     "name": "stdout",
     "output_type": "stream",
     "text": [
      "Default parameters of Random Forest Classifier:\n",
      "\n",
      "{'bootstrap': True,\n",
      " 'class_weight': None,\n",
      " 'criterion': 'gini',\n",
      " 'max_depth': None,\n",
      " 'max_features': 'auto',\n",
      " 'max_leaf_nodes': None,\n",
      " 'min_impurity_decrease': 0.0,\n",
      " 'min_impurity_split': None,\n",
      " 'min_samples_leaf': 1,\n",
      " 'min_samples_split': 2,\n",
      " 'min_weight_fraction_leaf': 0.0,\n",
      " 'n_estimators': 'warn',\n",
      " 'n_jobs': None,\n",
      " 'oob_score': False,\n",
      " 'random_state': 10,\n",
      " 'verbose': 0,\n",
      " 'warm_start': False}\n"
     ]
    }
   ],
   "source": [
    "# Examine the default parameters of Random Forest Classifier algorithm\n",
    "randforest  = RandomForestClassifier(random_state=10)\n",
    "\n",
    "print('Default parameters of Random Forest Classifier:\\n')\n",
    "pprint(randforest.get_params())"
   ]
  },
  {
   "cell_type": "code",
   "execution_count": 24,
   "metadata": {},
   "outputs": [],
   "source": [
    "# Create the parameter grid\n",
    "param_grid = {\n",
    "    'bootstrap': [True],\n",
    "    'max_depth': [None, 80, 90, 100, 110],\n",
    "    'max_features': [None, 2, 3, 4, 5, 6],\n",
    "    'min_samples_leaf': [1, 2, 3, 4, 5],\n",
    "    'min_samples_split': [2, 4, 6, 8, 10],\n",
    "    'n_estimators': [100, 200, 300, 400, 500, 1000]\n",
    "}\n",
    "\n",
    "# Use grid search\n",
    "grid_search = GridSearchCV(estimator = randforest, param_grid = param_grid, cv = 3, n_jobs = -1, return_train_score=True)"
   ]
  },
  {
   "cell_type": "code",
   "execution_count": 25,
   "metadata": {},
   "outputs": [],
   "source": [
    "# Fit the grid search to the data\n",
    "grid_search.fit(scaled_train_features, labels);"
   ]
  },
  {
   "cell_type": "code",
   "execution_count": 26,
   "metadata": {},
   "outputs": [
    {
     "data": {
      "text/plain": [
       "{'bootstrap': True,\n",
       " 'max_depth': None,\n",
       " 'max_features': 3,\n",
       " 'min_samples_leaf': 1,\n",
       " 'min_samples_split': 8,\n",
       " 'n_estimators': 100}"
      ]
     },
     "execution_count": 26,
     "metadata": {},
     "output_type": "execute_result"
    }
   ],
   "source": [
    "# print the best params\n",
    "grid_search.best_params_"
   ]
  },
  {
   "cell_type": "markdown",
   "metadata": {},
   "source": [
    "## Step 12. Compare the best Random Forest model with other models"
   ]
  },
  {
   "cell_type": "code",
   "execution_count": 27,
   "metadata": {},
   "outputs": [
    {
     "name": "stdout",
     "output_type": "stream",
     "text": [
      "Compare the models WITHOUT PCA and WITH Grid Search Hyperparameter Tuning: \n",
      " Decision Tree       : 0.804945054945055 \n",
      " Logistic Regression : 0.8087912087912088 \n",
      " Random Forest       : 0.8774725274725276\n"
     ]
    }
   ],
   "source": [
    "# Review the result of the best estimator\n",
    "best_estimator = grid_search.best_estimator_\n",
    "randf_score = cross_val_score(best_estimator, scaled_train_features, labels, cv=kf)\n",
    "\n",
    "# Print the mean of each array of scores\n",
    "print(\"Compare the models WITHOUT PCA and WITH Grid Search Hyperparameter Tuning:\",\"\\n\",\n",
    "      \"Decision Tree       :\", np.mean(tree_score),\"\\n\",\n",
    "      \"Logistic Regression :\", np.mean(logit_score),\"\\n\",\n",
    "      \"Random Forest       :\", np.mean(randf_score))"
   ]
  },
  {
   "cell_type": "markdown",
   "metadata": {},
   "source": [
    "#### Random Forest is still the best model, after hyperparameter tuning the score was improved from 0.86 up to 0.88"
   ]
  },
  {
   "cell_type": "markdown",
   "metadata": {},
   "source": [
    "# PART 2: WITH PRINCIPLE COMPONENT ANALYSIS (PCA)"
   ]
  },
  {
   "cell_type": "markdown",
   "metadata": {},
   "source": [
    "## Step 13. Principal Component Analysis on our scaled data\n",
    "<p>The very high dimensional nature of many data sets makes direct visualization impossible as we humans can only comprehend three dimensions. The solution is to work with data dimension reduction techniques.<p>\n",
    "<p>PCA achieves dimension reduction by creating new, artificial variables called principal components. Each principal component is a linear combination of the observed variables.<p>\n",
    "<p>Principal component analysis (PCA) simplifies the complexity in high-dimensional data while retaining trends and patterns. By reducing the dimensionality of the variable space by representing it with a few orthogonal (uncorrelated) variables that capture most of its variability. It does this by transforming the data into fewer dimensions, which act as summaries of features.</p>\n",
    "\n",
    "### *** The Benefits of using PCA\n",
    "\n",
    "<p><strong>* Removes Correlated Features:</strong><p>\n",
    "    \n",
    "In a real-world scenario, it's very common that we have thousands of features in our dataset. we cannot run our algorithm on all the features as it will reduce the performance of your algorithm and it will not be easy to visualize that many features in any kind of graph. So, we MUST reduce the number of features in the dataset.\n",
    "\n",
    "We need to find out the correlation among the features (correlated variables). Finding correlation manually in thousands of features is nearly impossible, frustrating and time-consuming. PCA does this for you efficiently. After implementing the PCA on your dataset, all the Principal Components are independent of one another. There is no correlation among them.\n",
    "\n",
    "<p>In other words, the Algorithm Performance will improve. The training time of the algorithms reduces significantly with less number of features after using PCA since PCA filter out the noise and we have only left stronger signal. Therefore, if the input dimensions are too high then using PCA to speed up the algorithm is a reasonable choice.\n",
    "\n",
    "<p><strong>* Reduces Overfitting:</strong> Overfitting mainly occurs when there are too many variables in the dataset.\n",
    "\n",
    "<p><strong>* Improves Visualization:</strong> It is very hard to visualize and understand the data in high dimensions. PCA transforms a high dimensional data to low dimensional data (2 dimension) so that it can be visualized easily.\n",
    "\n",
    "\n",
    "### *** The Down Sides of using PCA\n",
    "<p><strong>* Independent variables become less interpretable:</strong> After implementing PCA on the dataset, your original features will turn into Principal Components. Principal Components are the linear combination of your original features. Principal Components are not as readable and interpretable as original features.<p>\n",
    "<p><strong>* Data standardization is must before PCA:</strong> We must standardize data before implementing PCA, otherwise PCA will not be able to find the optimal Principal Components.<p>\n",
    "<p><strong>* Information Loss:</strong> Although Principal Components try to cover maximum variance among the features in a dataset, if we don’t select the number of Principal Components with care, it may miss some information as compared to the original list of features.\n",
    "    \n",
    "### *** Ready for PCA   \n",
    "<p>Now that we have preprocessed our data, we are ready to use PCA to determine by how much we can reduce the dimensionality of our data. We can use <strong>scree-plots</strong> and <strong>cumulative explained ratio plots</strong> to find the number of components to use in further analyses.</p>\n",
    "<p>Scree-plots display the number of components against the variance explained by each component, sorted in descending order of variance. Scree-plots help us get a better sense of which components explain a sufficient amount of variance in our data. When using scree plots, an 'elbow' (a steep drop from one data point to the next) in the plot is typically used to decide on an appropriate cutoff.</p>    "
   ]
  },
  {
   "cell_type": "code",
   "execution_count": 28,
   "metadata": {},
   "outputs": [
    {
     "name": "stdout",
     "output_type": "stream",
     "text": [
      "[0.25388002 0.16910233 0.14827773 0.13032824 0.09850611 0.08681495\n",
      " 0.06429509 0.04879553]\n",
      "8\n",
      "[0.25388002 0.16910233 0.14827773 0.13032824 0.09850611 0.08681495\n",
      " 0.06429509 0.04879553]\n"
     ]
    },
    {
     "data": {
      "text/plain": [
       "Text(0.5, 0, 'Principal Component #')"
      ]
     },
     "execution_count": 28,
     "metadata": {},
     "output_type": "execute_result"
    },
    {
     "data": {
      "image/png": "[encoded data removed]",
      "text/plain": [
       "<Figure size 432x288 with 1 Axes>"
      ]
     },
     "metadata": {
      "needs_background": "light"
     },
     "output_type": "display_data"
    }
   ],
   "source": [
    "# Get our explained variance ratios from PCA using all features\n",
    "pca = PCA()\n",
    "pca.fit(scaled_train_features)\n",
    "exp_variance = pca.explained_variance_ratio_\n",
    "print(pca.explained_variance_ratio_)\n",
    "print(pca.n_components_)\n",
    "print(exp_variance)\n",
    "\n",
    "# plot the explained variance using a barplot\n",
    "fig, ax = plt.subplots()\n",
    "ax.bar(range(pca.n_components_), exp_variance)\n",
    "ax.set_xlabel('Principal Component #')"
   ]
  },
  {
   "cell_type": "markdown",
   "metadata": {},
   "source": [
    "## Step 14. Further visualization of PCA\n",
    "<p>Unfortunately, there does not appear to be a clear elbow in this <strong>scree plot</strong>, which means it is not straightforward to find the number of intrinsic dimensions using this method. </p>\n",
    "<p>But all is not lost! Instead, we can also look at the <strong>cumulative explained variance plot</strong> to determine how many features are required to explain, say, about 90% of the variance (cutoffs are somewhat arbitrary here, and usually decided upon by 'rules of thumb'). Once we determine the appropriate number of components, we can perform PCA with that many components, ideally reducing the dimensionality of our data.</p>"
   ]
  },
  {
   "cell_type": "code",
   "execution_count": 29,
   "metadata": {},
   "outputs": [
    {
     "name": "stdout",
     "output_type": "stream",
     "text": [
      "[0.25388002 0.42298235 0.57126008 0.70158831 0.80009442 0.88690937\n",
      " 0.95120447 1.        ]\n"
     ]
    },
    {
     "data": {
      "image/png": "[encoded data removed]",
      "text/plain": [
       "<Figure size 432x288 with 1 Axes>"
      ]
     },
     "metadata": {
      "needs_background": "light"
     },
     "output_type": "display_data"
    }
   ],
   "source": [
    "# Calculate the cumulative explained variance\n",
    "cum_exp_variance = np.cumsum(exp_variance)\n",
    "print(cum_exp_variance)\n",
    "\n",
    "# Plot the cumulative explained variance and draw a dashed line at 0.90.\n",
    "fig, ax = plt.subplots()\n",
    "ax.plot(range(pca.n_components_), cum_exp_variance)\n",
    "ax.axhline(y =0.9, linestyle ='--')\n",
    "n_components = 6\n",
    "\n",
    "# Perform PCA with the chosen number of components and project data onto components\n",
    "pca = PCA(n_components, random_state =10)\n",
    "pca.fit(scaled_train_features)\n",
    "pca_projection = pca.transform(scaled_train_features)"
   ]
  },
  {
   "cell_type": "markdown",
   "metadata": {},
   "source": [
    "## Step 15. After PCA - Train a Decision Tree to classify genre\n",
    "Now we can use the lower dimensional PCA projection of the data to classify songs into genres."
   ]
  },
  {
   "cell_type": "code",
   "execution_count": 30,
   "metadata": {},
   "outputs": [],
   "source": [
    "# Split our data\n",
    "train_features, test_features, train_labels, test_labels =train_test_split(pca_projection,labels,random_state=10)\n",
    "\n",
    "# Train our decision tree\n",
    "tree = DecisionTreeClassifier(random_state=10)\n",
    "tree.fit(train_features, train_labels)\n",
    "\n",
    "# Predict the labels for the test data\n",
    "pred_labels_tree = tree.predict(test_features)"
   ]
  },
  {
   "cell_type": "markdown",
   "metadata": {},
   "source": [
    "## Step 16. After PCA - Using Logistic Regression"
   ]
  },
  {
   "cell_type": "code",
   "execution_count": 31,
   "metadata": {},
   "outputs": [],
   "source": [
    "# Train our logistic regression and predict labels for the test set\n",
    "logreg = LogisticRegression(random_state=10)\n",
    "logreg.fit(train_features, train_labels)\n",
    "\n",
    "# Predict the labels for the test data\n",
    "pred_labels_logit = logreg.predict(test_features)"
   ]
  },
  {
   "cell_type": "markdown",
   "metadata": {},
   "source": [
    "## Step 17. After PCA - Using Random Forest"
   ]
  },
  {
   "cell_type": "code",
   "execution_count": 32,
   "metadata": {},
   "outputs": [],
   "source": [
    "# Using Random Forest\n",
    "rfc = RandomForestClassifier(random_state=10)\n",
    "rfc.fit(train_features, train_labels)\n",
    "pred_labels_rfc = rfc.predict(test_features)"
   ]
  },
  {
   "cell_type": "markdown",
   "metadata": {},
   "source": [
    "## Step 18. After PCA - Compare the models:"
   ]
  },
  {
   "cell_type": "code",
   "execution_count": 33,
   "metadata": {},
   "outputs": [
    {
     "name": "stdout",
     "output_type": "stream",
     "text": [
      "Decision Tree: \n",
      "               precision    recall  f1-score   support\n",
      "\n",
      "     Hip-Hop       0.77      0.77      0.77       229\n",
      "        Rock       0.76      0.76      0.76       226\n",
      "\n",
      "    accuracy                           0.76       455\n",
      "   macro avg       0.76      0.76      0.76       455\n",
      "weighted avg       0.76      0.76      0.76       455\n",
      "\n",
      "Logistic Regression: \n",
      "               precision    recall  f1-score   support\n",
      "\n",
      "     Hip-Hop       0.83      0.82      0.82       234\n",
      "        Rock       0.81      0.82      0.82       221\n",
      "\n",
      "    accuracy                           0.82       455\n",
      "   macro avg       0.82      0.82      0.82       455\n",
      "weighted avg       0.82      0.82      0.82       455\n",
      "\n",
      "Random Forest: \n",
      "               precision    recall  f1-score   support\n",
      "\n",
      "     Hip-Hop       0.87      0.82      0.84       243\n",
      "        Rock       0.80      0.85      0.83       212\n",
      "\n",
      "    accuracy                           0.84       455\n",
      "   macro avg       0.83      0.84      0.83       455\n",
      "weighted avg       0.84      0.84      0.84       455\n",
      "\n"
     ]
    }
   ],
   "source": [
    "# Compare the models\n",
    "print(      \"Decision Tree: \\n\", classification_report(pred_labels_tree, test_labels))\n",
    "print(\"Logistic Regression: \\n\", classification_report(pred_labels_logit, test_labels))\n",
    "print(      \"Random Forest: \\n\", classification_report(pred_labels_rfc, test_labels))"
   ]
  },
  {
   "cell_type": "markdown",
   "metadata": {},
   "source": [
    "## Step 19. After PCA - Balance our data to see if we have a greater performance"
   ]
  },
  {
   "cell_type": "code",
   "execution_count": 34,
   "metadata": {},
   "outputs": [],
   "source": [
    "# Subset only the hip-hop tracks, and then only the rock tracks\n",
    "hop_only  = echo_tracks[echo_tracks['genre_top'] =='Hip-Hop']\n",
    "rock_only = echo_tracks[echo_tracks['genre_top'] =='Rock']\n",
    "\n",
    "# sample the rocks songs to be the same number as there are hip-hop songs\n",
    "rock_only = rock_only.sample(len(hop_only), random_state =10)\n",
    "\n",
    "# concatenate the dataframes rock_only and hop_only\n",
    "rock_hop_bal = pd.concat([rock_only, hop_only])\n",
    "\n",
    "# The features, labels, and pca projection are created for the balanced dataframe\n",
    "features       = rock_hop_bal.drop(['title', 'genre_top', 'track_id'], axis=1) \n",
    "labels         = rock_hop_bal['genre_top']\n",
    "pca_projection = pca.fit_transform(scaler.fit_transform(features))\n",
    "\n",
    "# Redefine the train and test set with the pca_projection from the balanced data\n",
    "train_features, test_features, train_labels, \\\n",
    "test_labels = train_test_split(pca_projection, labels, random_state =10)"
   ]
  },
  {
   "cell_type": "markdown",
   "metadata": {},
   "source": [
    "## Step 20. After PCA & Balancing Data - Compare all three methods"
   ]
  },
  {
   "cell_type": "code",
   "execution_count": 35,
   "metadata": {},
   "outputs": [
    {
     "name": "stdout",
     "output_type": "stream",
     "text": [
      "Decision Tree: \n",
      "               precision    recall  f1-score   support\n",
      "\n",
      "     Hip-Hop       0.77      0.77      0.77       229\n",
      "        Rock       0.76      0.76      0.76       226\n",
      "\n",
      "    accuracy                           0.76       455\n",
      "   macro avg       0.76      0.76      0.76       455\n",
      "weighted avg       0.76      0.76      0.76       455\n",
      "\n",
      "Logistic Regression: \n",
      "               precision    recall  f1-score   support\n",
      "\n",
      "     Hip-Hop       0.83      0.82      0.82       234\n",
      "        Rock       0.81      0.82      0.82       221\n",
      "\n",
      "    accuracy                           0.82       455\n",
      "   macro avg       0.82      0.82      0.82       455\n",
      "weighted avg       0.82      0.82      0.82       455\n",
      "\n",
      "Random Forest: \n",
      "               precision    recall  f1-score   support\n",
      "\n",
      "     Hip-Hop       0.87      0.82      0.84       243\n",
      "        Rock       0.80      0.85      0.83       212\n",
      "\n",
      "    accuracy                           0.84       455\n",
      "   macro avg       0.83      0.84      0.83       455\n",
      "weighted avg       0.84      0.84      0.84       455\n",
      "\n"
     ]
    }
   ],
   "source": [
    "# Train our decision tree on the balanced data\n",
    "tree = DecisionTreeClassifier(random_state =10)\n",
    "tree.fit(train_features, train_labels)\n",
    "pred_labels_tree = tree.predict(test_features)\n",
    "\n",
    "# Train our logistic regression on the balanced data\n",
    "logreg = LogisticRegression(random_state =10)\n",
    "logreg.fit(train_features, train_labels)\n",
    "pred_labels_logit = logreg.predict(test_features)\n",
    "\n",
    "# Train our random forest on the balanced data\n",
    "rfc = RandomForestClassifier(random_state=10)\n",
    "rfc.fit(train_features, train_labels)\n",
    "pred_labels_rfc = rfc.predict(test_features)\n",
    "\n",
    "# Compare the models\n",
    "print(      \"Decision Tree: \\n\", classification_report(pred_labels_tree, test_labels))\n",
    "print(\"Logistic Regression: \\n\", classification_report(pred_labels_logit, test_labels))\n",
    "print(      \"Random Forest: \\n\", classification_report(pred_labels_rfc, test_labels))"
   ]
  },
  {
   "cell_type": "markdown",
   "metadata": {},
   "source": [
    "#### With PCA: Compare the classification results between Before and After Balancing data. We have the same conclusion as above result (Without PCA) that is balancing our data didn't improve the accuracy of our models. "
   ]
  },
  {
   "cell_type": "markdown",
   "metadata": {},
   "source": [
    "## Step 21. After PCA - Using cross-validation to evaluate our models"
   ]
  },
  {
   "cell_type": "code",
   "execution_count": 36,
   "metadata": {},
   "outputs": [
    {
     "name": "stdout",
     "output_type": "stream",
     "text": [
      "Compare the models WITH PCA and WITHOUT Grid Search Hyperparameter Tuning: \n",
      " Decision Tree       : 0.7241758241758242 \n",
      " Logistic Regression : 0.7752747252747252 \n",
      " Random Forest       : 0.7862637362637361\n"
     ]
    }
   ],
   "source": [
    "# Set up our K-fold cross-validation\n",
    "kf = KFold(10, random_state=10)\n",
    "\n",
    "tree        = DecisionTreeClassifier(random_state=10)\n",
    "logreg      = LogisticRegression(random_state=10)\n",
    "randforest  = RandomForestClassifier(random_state=10)\n",
    "\n",
    "# Train our models using KFold cv\n",
    "tree_score  = cross_val_score(tree, pca_projection, labels, cv=kf)\n",
    "logit_score = cross_val_score(logreg, pca_projection, labels, cv=kf)\n",
    "randf_score = cross_val_score(randforest, pca_projection,labels, cv=kf)\n",
    "\n",
    "# Print the mean of each array of scores\n",
    "print(\"Compare the models WITH PCA and WITHOUT Grid Search Hyperparameter Tuning:\",\"\\n\",\n",
    "      \"Decision Tree       :\", np.mean(tree_score),\"\\n\",\n",
    "      \"Logistic Regression :\", np.mean(logit_score),\"\\n\",\n",
    "      \"Random Forest       :\", np.mean(randf_score))"
   ]
  },
  {
   "cell_type": "markdown",
   "metadata": {},
   "source": [
    "### We see that Random Forest seems to give the best score for our classification problem. Now, we will use Hyperparameter to fine tuning the algorithm to find the best parameters for the model"
   ]
  },
  {
   "cell_type": "markdown",
   "metadata": {},
   "source": [
    "## Step 22. Use Hyperparameter to further tuning the model"
   ]
  },
  {
   "cell_type": "code",
   "execution_count": 37,
   "metadata": {},
   "outputs": [
    {
     "name": "stdout",
     "output_type": "stream",
     "text": [
      "Default parameters of Random Forest Classifier:\n",
      "\n",
      "{'bootstrap': True,\n",
      " 'class_weight': None,\n",
      " 'criterion': 'gini',\n",
      " 'max_depth': None,\n",
      " 'max_features': 'auto',\n",
      " 'max_leaf_nodes': None,\n",
      " 'min_impurity_decrease': 0.0,\n",
      " 'min_impurity_split': None,\n",
      " 'min_samples_leaf': 1,\n",
      " 'min_samples_split': 2,\n",
      " 'min_weight_fraction_leaf': 0.0,\n",
      " 'n_estimators': 'warn',\n",
      " 'n_jobs': None,\n",
      " 'oob_score': False,\n",
      " 'random_state': 10,\n",
      " 'verbose': 0,\n",
      " 'warm_start': False}\n"
     ]
    }
   ],
   "source": [
    "# Examine the default parameters of Random Forest Classifier algorithm\n",
    "randforest  = RandomForestClassifier(random_state=10)\n",
    "\n",
    "print('Default parameters of Random Forest Classifier:\\n')\n",
    "pprint(randforest.get_params())"
   ]
  },
  {
   "cell_type": "code",
   "execution_count": 38,
   "metadata": {},
   "outputs": [],
   "source": [
    "# Use GridSearchCV\n",
    "from sklearn.model_selection import GridSearchCV\n",
    "\n",
    "# Create the parameter grid\n",
    "param_grid = {\n",
    "    'bootstrap': [True],\n",
    "    'max_depth': [None, 80, 90, 100, 110],\n",
    "    'max_features': [None, 2, 3, 4, 5, 6],\n",
    "    'min_samples_leaf': [1, 2, 3, 4, 5],\n",
    "    'min_samples_split': [2, 4, 6, 8, 10],\n",
    "    'n_estimators': [100, 200, 300, 400, 500, 1000]\n",
    "}\n",
    "\n",
    "# Use grid search\n",
    "grid_search = GridSearchCV(estimator = randforest, param_grid = param_grid, cv = 3, n_jobs = -1, return_train_score=True)"
   ]
  },
  {
   "cell_type": "code",
   "execution_count": 39,
   "metadata": {},
   "outputs": [],
   "source": [
    "# Fit the grid search to the data\n",
    "grid_search.fit(pca_projection, labels);"
   ]
  },
  {
   "cell_type": "code",
   "execution_count": 40,
   "metadata": {},
   "outputs": [
    {
     "data": {
      "text/plain": [
       "{'bootstrap': True,\n",
       " 'max_depth': None,\n",
       " 'max_features': 2,\n",
       " 'min_samples_leaf': 2,\n",
       " 'min_samples_split': 10,\n",
       " 'n_estimators': 100}"
      ]
     },
     "execution_count": 40,
     "metadata": {},
     "output_type": "execute_result"
    }
   ],
   "source": [
    "# print the best params\n",
    "grid_search.best_params_"
   ]
  },
  {
   "cell_type": "markdown",
   "metadata": {},
   "source": [
    "## Step 23. Compare the models"
   ]
  },
  {
   "cell_type": "code",
   "execution_count": 41,
   "metadata": {},
   "outputs": [
    {
     "name": "stdout",
     "output_type": "stream",
     "text": [
      "Compare the models WITH PCA and WITH Grid Search Hyperparameter Tuning: \n",
      " Decision Tree       : 0.7241758241758242 \n",
      " Logistic Regression : 0.7752747252747252 \n",
      " Random Forest       : 0.8104395604395604\n"
     ]
    }
   ],
   "source": [
    "# Review the result of the best estimator\n",
    "best_estimator = grid_search.best_estimator_\n",
    "randf_score = cross_val_score(best_estimator, pca_projection, labels, cv=kf)\n",
    "\n",
    "# Print the mean of each array of scores\n",
    "print(\"Compare the models WITH PCA and WITH Grid Search Hyperparameter Tuning:\",\"\\n\",\n",
    "      \"Decision Tree       :\", np.mean(tree_score),\"\\n\"\n",
    "      \" Logistic Regression :\", np.mean(logit_score),\"\\n\",\n",
    "      \"Random Forest       :\", np.mean(randf_score))"
   ]
  },
  {
   "cell_type": "markdown",
   "metadata": {},
   "source": [
    "#### Now, we see that by using the GridSearchCV Hyperparameter Tuning we can find the best params to fine tune the Random Forest and we can improve the score a little bit from 0.78 to 0.81\n"
   ]
  },
  {
   "cell_type": "markdown",
   "metadata": {},
   "source": [
    "# Conclusion\n",
    "\n",
    "<p><strong>With Decision Tree and Logistic Regression</strong> we can classify songs into different genres based on it features with accuracy about <strong>80%</strong>.<p>\n",
    "<p><strong>With Random Forest</strong> we can achieve a little better result with accuracy about <strong>88%</strong>.<p>\n",
    "<p><strong>* Principle Component Analysis (PCA):</strong> In this project, our data has only 8 technical features, the PCA didn't make any improvement in the results , however, in the real-world project, the PCA definitely contribute the effectiveness with <strong>Algorithm Performance, Visualization, Reducing Overfitting</strong><p>"
   ]
  }
 ],
 "metadata": {
  "kernelspec": {
   "display_name": "Python 3",
   "language": "python",
   "name": "python3"
  },
  "language_info": {
   "codemirror_mode": {
    "name": "ipython",
    "version": 3
   },
   "file_extension": ".py",
   "mimetype": "text/x-python",
   "name": "python",
   "nbconvert_exporter": "python",
   "pygments_lexer": "ipython3",
   "version": "3.7.3"
  }
 },
 "nbformat": 4,
 "nbformat_minor": 2
}
